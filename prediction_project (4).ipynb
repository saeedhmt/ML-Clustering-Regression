{
  "cells": [
    {
      "cell_type": "code",
      "execution_count": 1,
      "metadata": {
        "id": "E5Tuj5op_glF"
      },
      "outputs": [],
      "source": [
        "import os\n",
        "import pandas as pd\n",
        "import numpy as np\n",
        "import re\n",
        "from sklearn.impute import KNNImputer\n",
        "# These functions are needed to check dtypes and convert if necessary\n",
        "from pandas.api.types import is_string_dtype\n",
        "from pandas.api.types import is_numeric_dtype"
      ]
    },
    {
      "cell_type": "code",
      "execution_count": 3,
      "metadata": {
        "id": "ThRp-QFVM4vP"
      },
      "outputs": [],
      "source": [
        "# A dictionary of sheet description to better remember the purpose of each sheet.\n",
        "sheets_desc = {\"Data\": \"مشخصات پرسشنامه\",\n",
        "               \"P1\":\"قسمت یکم: خصوصیات اجتماعی اعضای خانوار\",\n",
        "               \"P2\": \"قسمت دوم: مشخصات محل سکونت\",\n",
        "               \"P3S01\": \"قسمت سوم: بخش ۱ هزینه‌های خوراکی خانوار در ماه گذشته\",\n",
        "               \"P3S02\": \"قسمت سوم: بخش ۲ هزینه‌های نوشیدنی‌های طبقه‌بندی نشده و دخانی های خانوار در ماه گذشته\",\n",
        "               \"P3S03\": \"قسمت سوم: بخش ۳ هزینه‌های پوشاک و کفش خانوار در ماه گذشته\",\n",
        "               \"P3S04\": \"قسمت سوم: بخش ۴ هزینه‌های بخش مسکن، آب، فاضلاب، سوخت و روشنایی خانوار در ماه گذشته\",\n",
        "               \"P3S05\": \"قسمت سوم: بخش ۵ هزینه‌های مبلمان و لوازم خانگی\",\n",
        "               \"P3S06\": \"قسمت سوم: بخش ۶ هزینه‌های بهداشتی و درمانی خانوار در ماه گذشته\",\n",
        "               \"P3S07\": \"قسمت سوم: بخش ۷ هزینه‌های حمل و نقل خانوار در ماه گذشته\",\n",
        "               \"P3S08\": \"قسمت سوم: بخش ۸ هزینه‌های ارتباطات خانوار در ماه گذشته\",\n",
        "               \"P3S09\": \"قسمت سوم: بخش ۹ هزینه‌های خدمات فرهنگی و تفریحات خانوار در ماه گذشته\",\n",
        "               \"P3S10\": \"قسمت سوم: بخش ۱۰ هزینه‌های آموزش و تحصیل\",  # empty sheet, included in P3S13\n",
        "               \"P3S11\": \"قسمت سوم: بخش ۱۱ هزینه‌های غذاهای آماده، هتل و رستوران خانوار در ماه گذشته\",\n",
        "               \"P3S12\": \"قسمت سوم: بخش ۱۲ هزینه‌های کالاها و خدمات متفرقه خانوار در ماه گذشته\",\n",
        "               \"P3S13\": \"قسمت سوم: بخش ۱۳ سایر هزینه‌ها و انتقالات در ۱۲ ماه گذشته\",\n",
        "               \"P3S14\": \"قسمت سوم: بخش ۱۴ سرمایه‌گذاری خانوار در ۱۲ ماه گذشته\",\n",
        "               \"P4S01\": \"قسمت چهارم: بخش ۱ درآمد پولی اعضای شاغل خانوار از مشاغل مزد و حقوق بگیری\",\n",
        "               \"P4S02\": \"قسمت چهارم: بخش ۲ درآمد پولی اعضای شاغل خانوار از مشاغل غیر مزد و حقوق بگیری (آزاد)\",\n",
        "               \"P4S03\": \"قسمت چهارم: بخش ۳ درآمدهای متفرقه خانوار در ۱۲ ماه گذشته\",\n",
        "               \"P4S04\": \"قسمت چهارم: ستون ۹ بخش ۳ شامل وام و یارانه\"\n",
        "               }"
      ]
    },
    {
      "cell_type": "code",
      "execution_count": 4,
      "metadata": {
        "id": "v5RQZPKCM5w1"
      },
      "outputs": [],
      "source": [
        "#Desired info:\n",
        "sheet_indices = [0,1,2,9,13, 15, 17,18,19,20]"
      ]
    },
    {
      "cell_type": "code",
      "execution_count": 5,
      "metadata": {
        "id": "JTXGtOKuM7nE"
      },
      "outputs": [],
      "source": [
        "resource_directory = \"G:\\\\ai\\\\project 1\\\\dataset\"\n",
        "resource_files : list[str] = []\n",
        "for f in os.listdir(resource_directory):\n",
        "    f_path = os.path.join(resource_directory, f)\n",
        "    if os.path.isfile(f_path):\n",
        "        resource_files.append(f)\n",
        "del f, f_path"
      ]
    },
    {
      "cell_type": "code",
      "execution_count": 6,
      "metadata": {
        "id": "UdBN7KWUZ6lm"
      },
      "outputs": [],
      "source": [
        "def empty_string_remover(df):\n",
        "    for col in df.columns:\n",
        "    # Checking if string dtype\n",
        "        if is_string_dtype(df[col]):\n",
        "            # replace cells with only empty strings with np.nan\n",
        "            df[col] = df[col].replace(r'^\\s*$', np.nan, regex=True)\n",
        "    return df"
      ]
    },
    {
      "cell_type": "code",
      "execution_count": 7,
      "metadata": {
        "colab": {
          "base_uri": "https://localhost:8080/"
        },
        "id": "lppa12_3Z-Qu",
        "outputId": "8f9ca830-cd04-46d0-9115-d5aa45271805"
      },
      "outputs": [
        {
          "name": "stdout",
          "output_type": "stream",
          "text": [
            "Sheet name from sheets_desc dict: Data. Sheet name from file: R1400Data\n",
            " Loaded sheet description: مشخصات پرسشنامه\n",
            "Sheet name from sheets_desc dict: P1. Sheet name from file: R1400P1\n",
            " Loaded sheet description: قسمت یکم: خصوصیات اجتماعی اعضای خانوار\n",
            "Sheet name from sheets_desc dict: P2. Sheet name from file: R1400P2\n",
            " Loaded sheet description: قسمت دوم: مشخصات محل سکونت\n",
            "Sheet name from sheets_desc dict: P3S07. Sheet name from file: R1400P3S07\n",
            " Loaded sheet description: قسمت سوم: بخش ۷ هزینه‌های حمل و نقل خانوار در ماه گذشته\n",
            "Sheet name from sheets_desc dict: P3S11. Sheet name from file: R1400P3S11\n",
            " Loaded sheet description: قسمت سوم: بخش ۱۱ هزینه‌های غذاهای آماده، هتل و رستوران خانوار در ماه گذشته\n",
            "Sheet name from sheets_desc dict: P3S13. Sheet name from file: R1400P3S13\n",
            " Loaded sheet description: قسمت سوم: بخش ۱۳ سایر هزینه‌ها و انتقالات در ۱۲ ماه گذشته\n",
            "Sheet name from sheets_desc dict: P4S01. Sheet name from file: R1400P4S01\n",
            " Loaded sheet description: قسمت چهارم: بخش ۱ درآمد پولی اعضای شاغل خانوار از مشاغل مزد و حقوق بگیری\n",
            "Sheet name from sheets_desc dict: P4S02. Sheet name from file: R1400P4S02\n",
            " Loaded sheet description: قسمت چهارم: بخش ۲ درآمد پولی اعضای شاغل خانوار از مشاغل غیر مزد و حقوق بگیری (آزاد)\n",
            "Sheet name from sheets_desc dict: P4S03. Sheet name from file: R1400P4S03\n",
            " Loaded sheet description: قسمت چهارم: بخش ۳ درآمدهای متفرقه خانوار در ۱۲ ماه گذشته\n",
            "Sheet name from sheets_desc dict: P4S04. Sheet name from file: R1400P4S04\n",
            " Loaded sheet description: قسمت چهارم: ستون ۹ بخش ۳ شامل وام و یارانه\n",
            "Sheet name from sheets_desc dict: Data. Sheet name from file: R1401Data\n",
            " Loaded sheet description: مشخصات پرسشنامه\n",
            "Sheet name from sheets_desc dict: P1. Sheet name from file: R1401P1\n",
            " Loaded sheet description: قسمت یکم: خصوصیات اجتماعی اعضای خانوار\n",
            "Sheet name from sheets_desc dict: P2. Sheet name from file: R1401P2\n",
            " Loaded sheet description: قسمت دوم: مشخصات محل سکونت\n",
            "Sheet name from sheets_desc dict: P3S07. Sheet name from file: R1401P3S07\n",
            " Loaded sheet description: قسمت سوم: بخش ۷ هزینه‌های حمل و نقل خانوار در ماه گذشته\n",
            "Sheet name from sheets_desc dict: P3S11. Sheet name from file: R1401P3S11\n",
            " Loaded sheet description: قسمت سوم: بخش ۱۱ هزینه‌های غذاهای آماده، هتل و رستوران خانوار در ماه گذشته\n",
            "Sheet name from sheets_desc dict: P3S13. Sheet name from file: R1401P3S13\n",
            " Loaded sheet description: قسمت سوم: بخش ۱۳ سایر هزینه‌ها و انتقالات در ۱۲ ماه گذشته\n",
            "Sheet name from sheets_desc dict: P4S01. Sheet name from file: R1401P4S01\n",
            " Loaded sheet description: قسمت چهارم: بخش ۱ درآمد پولی اعضای شاغل خانوار از مشاغل مزد و حقوق بگیری\n",
            "Sheet name from sheets_desc dict: P4S02. Sheet name from file: R1401P4S02\n",
            " Loaded sheet description: قسمت چهارم: بخش ۲ درآمد پولی اعضای شاغل خانوار از مشاغل غیر مزد و حقوق بگیری (آزاد)\n",
            "Sheet name from sheets_desc dict: P4S03. Sheet name from file: R1401P4S03\n",
            " Loaded sheet description: قسمت چهارم: بخش ۳ درآمدهای متفرقه خانوار در ۱۲ ماه گذشته\n",
            "Sheet name from sheets_desc dict: P4S04. Sheet name from file: R1401P4S04\n",
            " Loaded sheet description: قسمت چهارم: ستون ۹ بخش ۳ شامل وام و یارانه\n",
            "Sheet name from sheets_desc dict: Data. Sheet name from file: R98Data\n",
            " Loaded sheet description: مشخصات پرسشنامه\n",
            "Sheet name from sheets_desc dict: P1. Sheet name from file: R98P1\n",
            " Loaded sheet description: قسمت یکم: خصوصیات اجتماعی اعضای خانوار\n",
            "Sheet name from sheets_desc dict: P2. Sheet name from file: R98P2\n",
            " Loaded sheet description: قسمت دوم: مشخصات محل سکونت\n",
            "Sheet name from sheets_desc dict: P3S07. Sheet name from file: R1399P3S07\n",
            " Loaded sheet description: قسمت سوم: بخش ۷ هزینه‌های حمل و نقل خانوار در ماه گذشته\n",
            "Sheet name from sheets_desc dict: P3S11. Sheet name from file: R1399P3S11\n",
            " Loaded sheet description: قسمت سوم: بخش ۱۱ هزینه‌های غذاهای آماده، هتل و رستوران خانوار در ماه گذشته\n",
            "Sheet name from sheets_desc dict: P3S13. Sheet name from file: R1399P3S13\n",
            " Loaded sheet description: قسمت سوم: بخش ۱۳ سایر هزینه‌ها و انتقالات در ۱۲ ماه گذشته\n",
            "Sheet name from sheets_desc dict: P4S01. Sheet name from file: R1399P4S01\n",
            " Loaded sheet description: قسمت چهارم: بخش ۱ درآمد پولی اعضای شاغل خانوار از مشاغل مزد و حقوق بگیری\n",
            "Sheet name from sheets_desc dict: P4S02. Sheet name from file: R1399P4S02\n",
            " Loaded sheet description: قسمت چهارم: بخش ۲ درآمد پولی اعضای شاغل خانوار از مشاغل غیر مزد و حقوق بگیری (آزاد)\n",
            "Sheet name from sheets_desc dict: P4S03. Sheet name from file: R1399P4S03\n",
            " Loaded sheet description: قسمت چهارم: بخش ۳ درآمدهای متفرقه خانوار در ۱۲ ماه گذشته\n",
            "Sheet name from sheets_desc dict: P4S04. Sheet name from file: R1399P4S04\n",
            " Loaded sheet description: قسمت چهارم: ستون ۹ بخش ۳ شامل وام و یارانه\n",
            "Sheet name from sheets_desc dict: Data. Sheet name from file: R99Data\n",
            " Loaded sheet description: مشخصات پرسشنامه\n",
            "Sheet name from sheets_desc dict: P1. Sheet name from file: R99P1\n",
            " Loaded sheet description: قسمت یکم: خصوصیات اجتماعی اعضای خانوار\n",
            "Sheet name from sheets_desc dict: P2. Sheet name from file: R99P2\n",
            " Loaded sheet description: قسمت دوم: مشخصات محل سکونت\n",
            "Sheet name from sheets_desc dict: P3S07. Sheet name from file: R99P3S07\n",
            " Loaded sheet description: قسمت سوم: بخش ۷ هزینه‌های حمل و نقل خانوار در ماه گذشته\n",
            "Sheet name from sheets_desc dict: P3S11. Sheet name from file: R99P3S11\n",
            " Loaded sheet description: قسمت سوم: بخش ۱۱ هزینه‌های غذاهای آماده، هتل و رستوران خانوار در ماه گذشته\n",
            "Sheet name from sheets_desc dict: P3S13. Sheet name from file: R99P3S13\n",
            " Loaded sheet description: قسمت سوم: بخش ۱۳ سایر هزینه‌ها و انتقالات در ۱۲ ماه گذشته\n",
            "Sheet name from sheets_desc dict: P4S01. Sheet name from file: R99P4S01\n",
            " Loaded sheet description: قسمت چهارم: بخش ۱ درآمد پولی اعضای شاغل خانوار از مشاغل مزد و حقوق بگیری\n",
            "Sheet name from sheets_desc dict: P4S02. Sheet name from file: R99P4S02\n",
            " Loaded sheet description: قسمت چهارم: بخش ۲ درآمد پولی اعضای شاغل خانوار از مشاغل غیر مزد و حقوق بگیری (آزاد)\n",
            "Sheet name from sheets_desc dict: P4S03. Sheet name from file: R99P4S03\n",
            " Loaded sheet description: قسمت چهارم: بخش ۳ درآمدهای متفرقه خانوار در ۱۲ ماه گذشته\n",
            "Sheet name from sheets_desc dict: P4S04. Sheet name from file: R99P4S04\n",
            " Loaded sheet description: قسمت چهارم: ستون ۹ بخش ۳ شامل وام و یارانه\n",
            "Sheet name from sheets_desc dict: Data. Sheet name from file: U1400Data\n",
            " Loaded sheet description: مشخصات پرسشنامه\n",
            "Sheet name from sheets_desc dict: P1. Sheet name from file: R1400P1\n",
            " Loaded sheet description: قسمت یکم: خصوصیات اجتماعی اعضای خانوار\n",
            "Sheet name from sheets_desc dict: P2. Sheet name from file: R1400P2\n",
            " Loaded sheet description: قسمت دوم: مشخصات محل سکونت\n",
            "Sheet name from sheets_desc dict: P3S07. Sheet name from file: U1400P3S07\n",
            " Loaded sheet description: قسمت سوم: بخش ۷ هزینه‌های حمل و نقل خانوار در ماه گذشته\n",
            "Sheet name from sheets_desc dict: P3S11. Sheet name from file: U1400P3S11\n",
            " Loaded sheet description: قسمت سوم: بخش ۱۱ هزینه‌های غذاهای آماده، هتل و رستوران خانوار در ماه گذشته\n",
            "Sheet name from sheets_desc dict: P3S13. Sheet name from file: U1400P3S13\n",
            " Loaded sheet description: قسمت سوم: بخش ۱۳ سایر هزینه‌ها و انتقالات در ۱۲ ماه گذشته\n",
            "Sheet name from sheets_desc dict: P4S01. Sheet name from file: U1400P4S01\n",
            " Loaded sheet description: قسمت چهارم: بخش ۱ درآمد پولی اعضای شاغل خانوار از مشاغل مزد و حقوق بگیری\n",
            "Sheet name from sheets_desc dict: P4S02. Sheet name from file: U1400P4S02\n",
            " Loaded sheet description: قسمت چهارم: بخش ۲ درآمد پولی اعضای شاغل خانوار از مشاغل غیر مزد و حقوق بگیری (آزاد)\n",
            "Sheet name from sheets_desc dict: P4S03. Sheet name from file: U1400P4S03\n",
            " Loaded sheet description: قسمت چهارم: بخش ۳ درآمدهای متفرقه خانوار در ۱۲ ماه گذشته\n",
            "Sheet name from sheets_desc dict: P4S04. Sheet name from file: U1400P4S04\n",
            " Loaded sheet description: قسمت چهارم: ستون ۹ بخش ۳ شامل وام و یارانه\n",
            "Sheet name from sheets_desc dict: Data. Sheet name from file: U1401Data\n",
            " Loaded sheet description: مشخصات پرسشنامه\n",
            "Sheet name from sheets_desc dict: P1. Sheet name from file: R1401P1\n",
            " Loaded sheet description: قسمت یکم: خصوصیات اجتماعی اعضای خانوار\n",
            "Sheet name from sheets_desc dict: P2. Sheet name from file: R1401P2\n",
            " Loaded sheet description: قسمت دوم: مشخصات محل سکونت\n",
            "Sheet name from sheets_desc dict: P3S07. Sheet name from file: U1401P3S07\n",
            " Loaded sheet description: قسمت سوم: بخش ۷ هزینه‌های حمل و نقل خانوار در ماه گذشته\n",
            "Sheet name from sheets_desc dict: P3S11. Sheet name from file: U1401P3S11\n",
            " Loaded sheet description: قسمت سوم: بخش ۱۱ هزینه‌های غذاهای آماده، هتل و رستوران خانوار در ماه گذشته\n",
            "Sheet name from sheets_desc dict: P3S13. Sheet name from file: U1401P3S13\n",
            " Loaded sheet description: قسمت سوم: بخش ۱۳ سایر هزینه‌ها و انتقالات در ۱۲ ماه گذشته\n",
            "Sheet name from sheets_desc dict: P4S01. Sheet name from file: U1401P4S01\n",
            " Loaded sheet description: قسمت چهارم: بخش ۱ درآمد پولی اعضای شاغل خانوار از مشاغل مزد و حقوق بگیری\n",
            "Sheet name from sheets_desc dict: P4S02. Sheet name from file: U1401P4S02\n",
            " Loaded sheet description: قسمت چهارم: بخش ۲ درآمد پولی اعضای شاغل خانوار از مشاغل غیر مزد و حقوق بگیری (آزاد)\n",
            "Sheet name from sheets_desc dict: P4S03. Sheet name from file: U1401P4S03\n",
            " Loaded sheet description: قسمت چهارم: بخش ۳ درآمدهای متفرقه خانوار در ۱۲ ماه گذشته\n",
            "Sheet name from sheets_desc dict: P4S04. Sheet name from file: U1401P4S04\n",
            " Loaded sheet description: قسمت چهارم: ستون ۹ بخش ۳ شامل وام و یارانه\n",
            "Sheet name from sheets_desc dict: Data. Sheet name from file: U1399Data\n",
            " Loaded sheet description: مشخصات پرسشنامه\n",
            "Sheet name from sheets_desc dict: P1. Sheet name from file: R1399P1\n",
            " Loaded sheet description: قسمت یکم: خصوصیات اجتماعی اعضای خانوار\n",
            "Sheet name from sheets_desc dict: P2. Sheet name from file: R1399P2\n",
            " Loaded sheet description: قسمت دوم: مشخصات محل سکونت\n",
            "Sheet name from sheets_desc dict: P3S07. Sheet name from file: U1399P3S07\n",
            " Loaded sheet description: قسمت سوم: بخش ۷ هزینه‌های حمل و نقل خانوار در ماه گذشته\n",
            "Sheet name from sheets_desc dict: P3S11. Sheet name from file: U1399P3S11\n",
            " Loaded sheet description: قسمت سوم: بخش ۱۱ هزینه‌های غذاهای آماده، هتل و رستوران خانوار در ماه گذشته\n",
            "Sheet name from sheets_desc dict: P3S13. Sheet name from file: U1399P3S13\n",
            " Loaded sheet description: قسمت سوم: بخش ۱۳ سایر هزینه‌ها و انتقالات در ۱۲ ماه گذشته\n",
            "Sheet name from sheets_desc dict: P4S01. Sheet name from file: U1399P4S01\n",
            " Loaded sheet description: قسمت چهارم: بخش ۱ درآمد پولی اعضای شاغل خانوار از مشاغل مزد و حقوق بگیری\n",
            "Sheet name from sheets_desc dict: P4S02. Sheet name from file: U1399P4S02\n",
            " Loaded sheet description: قسمت چهارم: بخش ۲ درآمد پولی اعضای شاغل خانوار از مشاغل غیر مزد و حقوق بگیری (آزاد)\n",
            "Sheet name from sheets_desc dict: P4S03. Sheet name from file: U1399P4S03\n",
            " Loaded sheet description: قسمت چهارم: بخش ۳ درآمدهای متفرقه خانوار در ۱۲ ماه گذشته\n",
            "Sheet name from sheets_desc dict: P4S04. Sheet name from file: U1399P4S04\n",
            " Loaded sheet description: قسمت چهارم: ستون ۹ بخش ۳ شامل وام و یارانه\n",
            "Sheet name from sheets_desc dict: Data. Sheet name from file: U99Data\n",
            " Loaded sheet description: مشخصات پرسشنامه\n",
            "Sheet name from sheets_desc dict: P1. Sheet name from file: R99P1\n",
            " Loaded sheet description: قسمت یکم: خصوصیات اجتماعی اعضای خانوار\n",
            "Sheet name from sheets_desc dict: P2. Sheet name from file: R99P2\n",
            " Loaded sheet description: قسمت دوم: مشخصات محل سکونت\n",
            "Sheet name from sheets_desc dict: P3S07. Sheet name from file: U99P3S07\n",
            " Loaded sheet description: قسمت سوم: بخش ۷ هزینه‌های حمل و نقل خانوار در ماه گذشته\n",
            "Sheet name from sheets_desc dict: P3S11. Sheet name from file: U99P3S11\n",
            " Loaded sheet description: قسمت سوم: بخش ۱۱ هزینه‌های غذاهای آماده، هتل و رستوران خانوار در ماه گذشته\n",
            "Sheet name from sheets_desc dict: P3S13. Sheet name from file: U99P3S13\n",
            " Loaded sheet description: قسمت سوم: بخش ۱۳ سایر هزینه‌ها و انتقالات در ۱۲ ماه گذشته\n",
            "Sheet name from sheets_desc dict: P4S01. Sheet name from file: U99P4S01\n",
            " Loaded sheet description: قسمت چهارم: بخش ۱ درآمد پولی اعضای شاغل خانوار از مشاغل مزد و حقوق بگیری\n",
            "Sheet name from sheets_desc dict: P4S02. Sheet name from file: U99P4S02\n",
            " Loaded sheet description: قسمت چهارم: بخش ۲ درآمد پولی اعضای شاغل خانوار از مشاغل غیر مزد و حقوق بگیری (آزاد)\n",
            "Sheet name from sheets_desc dict: P4S03. Sheet name from file: U99P4S03\n",
            " Loaded sheet description: قسمت چهارم: بخش ۳ درآمدهای متفرقه خانوار در ۱۲ ماه گذشته\n",
            "Sheet name from sheets_desc dict: P4S04. Sheet name from file: U99P4S04\n",
            " Loaded sheet description: قسمت چهارم: ستون ۹ بخش ۳ شامل وام و یارانه\n"
          ]
        }
      ],
      "source": [
        "dfs = []\n",
        "\n",
        "for filename in resource_files:\n",
        "\n",
        "    file_path = os.path.join(resource_directory, filename)\n",
        "    year_file = pd.ExcelFile(file_path, engine='openpyxl')\n",
        "\n",
        "    if filename.startswith(\"U\"):\n",
        "        Urban = True\n",
        "    else:\n",
        "        Urban = False\n",
        "\n",
        "    year = int(filename.strip(\".xlsx\")[1:])\n",
        "    if (year==99) or (year ==98):\n",
        "        year = 1300+year\n",
        "\n",
        "    for sheet_index in sheet_indices:\n",
        "\n",
        "        sheet_name = list(sheets_desc.keys())[sheet_index]\n",
        "        print(f\"Sheet name from sheets_desc dict: {sheet_name}.\",\n",
        "            f\"Sheet name from file: {year_file.sheet_names[sheet_index]}\\n\",\n",
        "            f\"Loaded sheet description: {sheets_desc[sheet_name]}\")\n",
        "\n",
        "        if sheet_index==0:\n",
        "            current_df = pd.read_excel(year_file, year_file.sheet_names[sheet_index])\n",
        "            current_df = empty_string_remover(current_df)\n",
        "            # Here we add year and Urban columns to the Data (first sheet) dataframe\n",
        "            current_df[\"Urban\"] = Urban\n",
        "            current_df[\"Year\"] = year\n",
        "\n",
        "            # Drop rows that:\n",
        "                # TakmilDescA is not being nan, these only exist in year 1401.\n",
        "                # TakmilDescB or JaygozinDescA or JaygozinDescB or JaygozinDescC is not nan,\n",
        "                # Jaygozin ==2,\n",
        "                # However, JaygozinDescC does not appear to have a specific definition.\n",
        "                # Because all the above mean the end of survey for that family.\n",
        "\n",
        "            current_df = current_df.loc[current_df.TakmilDescA.isna() |\n",
        "                                    current_df.TakmilDescB.isna() |\n",
        "                                    current_df.JaygozinDescA.isna() |\n",
        "                                    current_df.JaygozinDescB.isna() |\n",
        "                                    current_df.Jaygozin!=2, :]\n",
        "            if \"JaygozinDescC\" in current_df.columns:\n",
        "                current_df = current_df.loc[current_df.JaygozinDescC.isna(), :]\n",
        "\n",
        "            # We only consider addresses from this dataframe and do left join with other dfs\n",
        "            year_df = current_df.loc[:, [\"Address\", \"Fasl\", \"Urban\", \"Year\", \"khanevartype\", \"province\", \"town\"]].copy()\n",
        "            del current_df\n",
        "\n",
        "        if sheet_index==1:\n",
        "            current_df = pd.read_excel(year_file, year_file.sheet_names[sheet_index])\n",
        "            current_df = empty_string_remover(current_df)\n",
        "            # Counting family members of each family\n",
        "            family_member_count = (current_df.groupby(\"Address\")\n",
        "                                .agg({\"member\": \"count\"})\n",
        "                                .rename(columns={\"member\": \"member_cnt\"}).reset_index())\n",
        "\n",
        "            # Counting employed or student members of a family,\n",
        "            # presumably because the go outside more and have more transportation expense\n",
        "            active_member_count = (current_df.loc[current_df.occupationalst.str.lower().isin([\"employed\", \"student\"]),\n",
        "                                                    [\"Address\", \"occupationalst\"]]\n",
        "                                            .groupby(\"Address\").agg({\"occupationalst\": \"count\"})\n",
        "                                            .rename(columns={\"occupationalst\": \"active_member_cnt\"})\n",
        "                                            .reset_index())\n",
        "            family_mean_age = (current_df.groupby(\"Address\").agg({\"age\": \"mean\"})\n",
        "                                .rename(columns={\"age\": \"mean_age\"})\n",
        "                                .reset_index())\n",
        "\n",
        "\n",
        "\n",
        "\n",
        "\n",
        "            # Counting members with more than Diploma education\n",
        "            # Maybe these people go out more often\n",
        "            highly_educated_members_count = (current_df.loc[current_df.degree\n",
        "                                                            .isin(['Bachelor', 'College', 'Master', 'PhD']),\n",
        "                                                            [\"Address\", \"degree\"]]\n",
        "                                            .groupby(\"Address\").agg({\"degree\": \"count\"})\n",
        "                                            .rename(columns={\"degree\": \"highly_educated_member_cnt\"})\n",
        "                                            .reset_index())\n",
        "\n",
        "            year_df = pd.merge(year_df, family_member_count, how=\"left\", on=\"Address\")\n",
        "            year_df = pd.merge(year_df, active_member_count, how=\"left\", on=\"Address\")\n",
        "            year_df = pd.merge(year_df, family_mean_age, how=\"left\", on=\"Address\")\n",
        "            year_df = pd.merge(year_df, highly_educated_members_count, how=\"left\", on=\"Address\")\n",
        "            del current_df, family_member_count, active_member_count, family_mean_age, highly_educated_members_count\n",
        "\n",
        "\n",
        "        # Maybe if they have vehicles, they spend less on public transportation cost\n",
        "        # However, they might spend more on personal vehicle expenses\n",
        "        if sheet_index==2:\n",
        "            cols = [\"Address\",\"tenure\", \"vehicle\", \"motorcycle\", \"bicycle\"]\n",
        "            current_df = pd.read_excel(year_file, year_file.sheet_names[sheet_index], usecols = cols)\n",
        "            current_df = empty_string_remover(current_df)\n",
        "            year_df = pd.merge(year_df, current_df, how=\"left\", on=\"Address\")\n",
        "            del current_df\n",
        "\n",
        "        # Transportation expenses\n",
        "        if sheet_index==9:\n",
        "            current_df = pd.read_excel(year_file, year_file.sheet_names[sheet_index])\n",
        "            current_df = empty_string_remover(current_df)\n",
        "            transportation_cost_df = (current_df.groupby(\"Address\").agg({\"value\": \"sum\"})\n",
        "                                .rename(columns={\"value\": \"transportation_cost\"})\n",
        "                                .reset_index())\n",
        "            year_df = pd.merge(year_df, transportation_cost_df, how=\"left\", on=\"Address\")\n",
        "            del current_df, transportation_cost_df\n",
        "\n",
        "        # Dining out more, might require more transportation costs for families\n",
        "        if sheet_index==13:\n",
        "            current_df = pd.read_excel(year_file, year_file.sheet_names[sheet_index])\n",
        "            current_df = empty_string_remover(current_df)\n",
        "            current_df = (current_df.groupby(\"Address\").agg({\"value\": \"sum\"})\n",
        "                                .rename(columns={\"value\": \"dining_expenses\"})\n",
        "                                .reset_index())\n",
        "            year_df = pd.merge(year_df, current_df, how=\"left\", on=\"Address\")\n",
        "            del current_df\n",
        "\n",
        "        # بخش 13 اطلاعات مفیدی در رابطه با حمل و نقل داره مانند بیمه مرتبط با حمل و نقل یا هزینه های مربوط به خرید وسایل نقلیه\n",
        "        if sheet_index==15:\n",
        "            current_df = pd.read_excel(year_file, year_file.sheet_names[sheet_index])\n",
        "            # current_df = empty_string_remover(current_df)\n",
        "            current_df.value = pd.to_numeric(current_df.value, errors='coerce')\n",
        "            current_df.value = current_df.value.fillna(0).astype(\"int64\")\n",
        "            # مخارج حق بیمه مرتبط با حمل و نقل خانوار\n",
        "            transport_insurance_df = (current_df.loc[current_df.code.isin([125411,125412,125413]), :]\n",
        "                                .groupby(\"Address\").agg({\"value\":\"sum\"}).rename(columns={\"value\": \"Insurance_expenses\"})\n",
        "                                .reset_index())\n",
        "            # هزینه های مربوط به خرید وسایل نقلیه و تجهیزات مربوطه\n",
        "            vehicle_expenses_df = (current_df.loc[current_df.code.astype(\"str\").str.match(\"^7[12]\\d+$\")]\n",
        "                            .groupby(\"Address\").agg({\"value\":\"sum\"}).rename(columns={\"value\": \"Vehicle_purchase_expenses\"})\n",
        "                            .reset_index())\n",
        "            year_df = pd.merge(year_df, transport_insurance_df, how=\"left\", on=\"Address\")\n",
        "            year_df = pd.merge(year_df, vehicle_expenses_df, how=\"left\", on=\"Address\")\n",
        "            del current_df, transport_insurance_df, vehicle_expenses_df\n",
        "\n",
        "        if sheet_index==17:\n",
        "            income_wage_df = pd.read_excel(year_file, year_file.sheet_names[sheet_index])\n",
        "            income_wage_df = (empty_string_remover(income_wage_df).groupby(\"Address\")\n",
        "                                .agg({\"netincome_w_y\": \"sum\"})\n",
        "                                .reset_index())\n",
        "            year_df = pd.merge(year_df, income_wage_df, how=\"left\", on=\"Address\")\n",
        "            del income_wage_df\n",
        "\n",
        "        if sheet_index==18:\n",
        "            #Calculating azad income\n",
        "            income_azad_df = pd.read_excel(year_file, year_file.sheet_names[sheet_index])\n",
        "            income_azad_df = empty_string_remover(income_azad_df).groupby(\"Address\").agg({\"income_s_y\": \"sum\"}).reset_index()\n",
        "            year_df = pd.merge(year_df, income_azad_df, how=\"left\", on=\"Address\")\n",
        "            del income_azad_df\n",
        "\n",
        "        if sheet_index==19:\n",
        "            # Calculating miscellaneous income\n",
        "            income_misc_df = pd.read_excel(year_file, year_file.sheet_names[sheet_index])\n",
        "            for col in [\"income_pension\", \"income_rent\", \"income_interest\", \"income_aid\", \"income_resale\", \"income_transfer\"]:\n",
        "                income_misc_df[col] = pd.to_numeric(income_misc_df[col], errors='coerce')\n",
        "            income_misc_df = empty_string_remover(income_misc_df).fillna(0).astype(\"int64\")\n",
        "            income_misc_df = income_misc_df.groupby(\"Address\").agg({\"income_pension\": \"sum\",\n",
        "                                                        \"income_rent\": \"sum\",\n",
        "                                                        \"income_interest\": \"sum\",\n",
        "                                                        \"income_aid\": \"sum\",\n",
        "                                                        \"income_resale\": \"sum\",\n",
        "                                                        \"income_transfer\": \"sum\",\n",
        "                                                        }).sum(axis=1).to_frame(name='misc_income').reset_index()\n",
        "            year_df = pd.merge(year_df, income_misc_df, how=\"left\", on=\"Address\")\n",
        "            del income_misc_df\n",
        "\n",
        "        if sheet_index==20:\n",
        "            #Calculatin subsidy income\n",
        "            income_subsidy_df = pd.read_excel(year_file, year_file.sheet_names[sheet_index])\n",
        "            income_subsidy_df = empty_string_remover(income_subsidy_df).fillna(0).astype(\"int64\")\n",
        "            income_subsidy_df = income_subsidy_df.groupby(\"Address\").agg({\"subsidy\":\"sum\"}).reset_index()\n",
        "            year_df = pd.merge(year_df, income_subsidy_df, how=\"left\", on=\"Address\")\n",
        "            del income_subsidy_df\n",
        "\n",
        "    dfs.append(year_df)"
      ]
    },
    {
      "cell_type": "code",
      "execution_count": 118,
      "metadata": {
        "id": "uxqUnhkHaI6d"
      },
      "outputs": [],
      "source": [
        "final_df = pd.concat(dfs, axis=0)"
      ]
    },
    {
      "cell_type": "code",
      "execution_count": 119,
      "metadata": {
        "id": "TSvbXFJcaKdb"
      },
      "outputs": [],
      "source": [
        "final_df.to_pickle(\"prediction_features_df.pkl\")"
      ]
    },
    {
      "cell_type": "code",
      "execution_count": 120,
      "metadata": {
        "colab": {
          "base_uri": "https://localhost:8080/"
        },
        "id": "J9SdV-3ugvAh",
        "outputId": "083e99a1-22b8-49f9-8340-c3337cc3a371"
      },
      "outputs": [
        {
          "name": "stdout",
          "output_type": "stream",
          "text": [
            "<class 'pandas.core.frame.DataFrame'>\n",
            "Index: 151824 entries, 0 to 19305\n",
            "Data columns (total 23 columns):\n",
            " #   Column                      Non-Null Count   Dtype  \n",
            "---  ------                      --------------   -----  \n",
            " 0   Address                     151824 non-null  int64  \n",
            " 1   Fasl                        151824 non-null  int64  \n",
            " 2   Urban                       151824 non-null  bool   \n",
            " 3   Year                        151824 non-null  int64  \n",
            " 4   khanevartype                151824 non-null  int64  \n",
            " 5   province                    151824 non-null  object \n",
            " 6   town                        151824 non-null  int64  \n",
            " 7   member_cnt                  151824 non-null  int64  \n",
            " 8   active_member_cnt           118166 non-null  float64\n",
            " 9   mean_age                    151824 non-null  float64\n",
            " 10  highly_educated_member_cnt  43075 non-null   float64\n",
            " 11  tenure                      151820 non-null  object \n",
            " 12  vehicle                     151824 non-null  bool   \n",
            " 13  motorcycle                  151824 non-null  bool   \n",
            " 14  bicycle                     151824 non-null  bool   \n",
            " 15  transportation_cost         137600 non-null  float64\n",
            " 16  dining_expenses             37532 non-null   float64\n",
            " 17  Insurance_expenses          52283 non-null   float64\n",
            " 18  Vehicle_purchase_expenses   65520 non-null   float64\n",
            " 19  netincome_w_y               75239 non-null   float64\n",
            " 20  income_s_y                  52500 non-null   object \n",
            " 21  misc_income                 134079 non-null  float64\n",
            " 22  subsidy                     142689 non-null  float64\n",
            "dtypes: bool(4), float64(10), int64(6), object(3)\n",
            "memory usage: 23.7+ MB\n"
          ]
        }
      ],
      "source": [
        "final_df.info()"
      ]
    },
    {
      "cell_type": "code",
      "execution_count": 121,
      "metadata": {
        "colab": {
          "base_uri": "https://localhost:8080/",
          "height": 255
        },
        "id": "Hhh2k4GsYhSe",
        "outputId": "802f5d8c-f4d0-49c6-cf19-75ced88ca1d1"
      },
      "outputs": [
        {
          "data": {
            "text/html": [
              "<div>\n",
              "<style scoped>\n",
              "    .dataframe tbody tr th:only-of-type {\n",
              "        vertical-align: middle;\n",
              "    }\n",
              "\n",
              "    .dataframe tbody tr th {\n",
              "        vertical-align: top;\n",
              "    }\n",
              "\n",
              "    .dataframe thead th {\n",
              "        text-align: right;\n",
              "    }\n",
              "</style>\n",
              "<table border=\"1\" class=\"dataframe\">\n",
              "  <thead>\n",
              "    <tr style=\"text-align: right;\">\n",
              "      <th></th>\n",
              "      <th>Address</th>\n",
              "      <th>Fasl</th>\n",
              "      <th>Urban</th>\n",
              "      <th>Year</th>\n",
              "      <th>khanevartype</th>\n",
              "      <th>province</th>\n",
              "      <th>town</th>\n",
              "      <th>member_cnt</th>\n",
              "      <th>active_member_cnt</th>\n",
              "      <th>mean_age</th>\n",
              "      <th>...</th>\n",
              "      <th>motorcycle</th>\n",
              "      <th>bicycle</th>\n",
              "      <th>transportation_cost</th>\n",
              "      <th>dining_expenses</th>\n",
              "      <th>Insurance_expenses</th>\n",
              "      <th>Vehicle_purchase_expenses</th>\n",
              "      <th>netincome_w_y</th>\n",
              "      <th>income_s_y</th>\n",
              "      <th>misc_income</th>\n",
              "      <th>subsidy</th>\n",
              "    </tr>\n",
              "  </thead>\n",
              "  <tbody>\n",
              "    <tr>\n",
              "      <th>0</th>\n",
              "      <td>20001383919</td>\n",
              "      <td>2</td>\n",
              "      <td>False</td>\n",
              "      <td>1400</td>\n",
              "      <td>1</td>\n",
              "      <td>Markazi</td>\n",
              "      <td>1</td>\n",
              "      <td>5</td>\n",
              "      <td>2.0</td>\n",
              "      <td>20.8</td>\n",
              "      <td>...</td>\n",
              "      <td>True</td>\n",
              "      <td>False</td>\n",
              "      <td>600000.0</td>\n",
              "      <td>NaN</td>\n",
              "      <td>NaN</td>\n",
              "      <td>488400000.0</td>\n",
              "      <td>354000000.0</td>\n",
              "      <td>NaN</td>\n",
              "      <td>158600000.0</td>\n",
              "      <td>23100000.0</td>\n",
              "    </tr>\n",
              "    <tr>\n",
              "      <th>1</th>\n",
              "      <td>20001383923</td>\n",
              "      <td>2</td>\n",
              "      <td>False</td>\n",
              "      <td>1400</td>\n",
              "      <td>1</td>\n",
              "      <td>Markazi</td>\n",
              "      <td>1</td>\n",
              "      <td>4</td>\n",
              "      <td>3.0</td>\n",
              "      <td>32.5</td>\n",
              "      <td>...</td>\n",
              "      <td>True</td>\n",
              "      <td>False</td>\n",
              "      <td>2800000.0</td>\n",
              "      <td>NaN</td>\n",
              "      <td>NaN</td>\n",
              "      <td>13600000.0</td>\n",
              "      <td>NaN</td>\n",
              "      <td>636000000.0</td>\n",
              "      <td>NaN</td>\n",
              "      <td>NaN</td>\n",
              "    </tr>\n",
              "    <tr>\n",
              "      <th>2</th>\n",
              "      <td>20001383925</td>\n",
              "      <td>2</td>\n",
              "      <td>False</td>\n",
              "      <td>1400</td>\n",
              "      <td>1</td>\n",
              "      <td>Markazi</td>\n",
              "      <td>1</td>\n",
              "      <td>4</td>\n",
              "      <td>1.0</td>\n",
              "      <td>46.5</td>\n",
              "      <td>...</td>\n",
              "      <td>True</td>\n",
              "      <td>False</td>\n",
              "      <td>2350000.0</td>\n",
              "      <td>NaN</td>\n",
              "      <td>NaN</td>\n",
              "      <td>5600000.0</td>\n",
              "      <td>NaN</td>\n",
              "      <td>173000000.0</td>\n",
              "      <td>42320000.0</td>\n",
              "      <td>17640000.0</td>\n",
              "    </tr>\n",
              "    <tr>\n",
              "      <th>3</th>\n",
              "      <td>20001383929</td>\n",
              "      <td>2</td>\n",
              "      <td>False</td>\n",
              "      <td>1400</td>\n",
              "      <td>1</td>\n",
              "      <td>Markazi</td>\n",
              "      <td>1</td>\n",
              "      <td>2</td>\n",
              "      <td>1.0</td>\n",
              "      <td>28.0</td>\n",
              "      <td>...</td>\n",
              "      <td>False</td>\n",
              "      <td>False</td>\n",
              "      <td>3000000.0</td>\n",
              "      <td>NaN</td>\n",
              "      <td>NaN</td>\n",
              "      <td>NaN</td>\n",
              "      <td>160000000.0</td>\n",
              "      <td>NaN</td>\n",
              "      <td>23560000.0</td>\n",
              "      <td>6720000.0</td>\n",
              "    </tr>\n",
              "    <tr>\n",
              "      <th>4</th>\n",
              "      <td>20001383932</td>\n",
              "      <td>2</td>\n",
              "      <td>False</td>\n",
              "      <td>1400</td>\n",
              "      <td>1</td>\n",
              "      <td>Markazi</td>\n",
              "      <td>1</td>\n",
              "      <td>2</td>\n",
              "      <td>NaN</td>\n",
              "      <td>61.5</td>\n",
              "      <td>...</td>\n",
              "      <td>False</td>\n",
              "      <td>False</td>\n",
              "      <td>2500000.0</td>\n",
              "      <td>NaN</td>\n",
              "      <td>NaN</td>\n",
              "      <td>NaN</td>\n",
              "      <td>NaN</td>\n",
              "      <td>NaN</td>\n",
              "      <td>416360000.0</td>\n",
              "      <td>10920000.0</td>\n",
              "    </tr>\n",
              "  </tbody>\n",
              "</table>\n",
              "<p>5 rows × 23 columns</p>\n",
              "</div>"
            ],
            "text/plain": [
              "       Address  Fasl  Urban  Year  khanevartype province  town  member_cnt  \\\n",
              "0  20001383919     2  False  1400             1  Markazi     1           5   \n",
              "1  20001383923     2  False  1400             1  Markazi     1           4   \n",
              "2  20001383925     2  False  1400             1  Markazi     1           4   \n",
              "3  20001383929     2  False  1400             1  Markazi     1           2   \n",
              "4  20001383932     2  False  1400             1  Markazi     1           2   \n",
              "\n",
              "   active_member_cnt  mean_age  ...  motorcycle bicycle  transportation_cost  \\\n",
              "0                2.0      20.8  ...        True   False             600000.0   \n",
              "1                3.0      32.5  ...        True   False            2800000.0   \n",
              "2                1.0      46.5  ...        True   False            2350000.0   \n",
              "3                1.0      28.0  ...       False   False            3000000.0   \n",
              "4                NaN      61.5  ...       False   False            2500000.0   \n",
              "\n",
              "   dining_expenses  Insurance_expenses  Vehicle_purchase_expenses  \\\n",
              "0              NaN                 NaN                488400000.0   \n",
              "1              NaN                 NaN                 13600000.0   \n",
              "2              NaN                 NaN                  5600000.0   \n",
              "3              NaN                 NaN                        NaN   \n",
              "4              NaN                 NaN                        NaN   \n",
              "\n",
              "   netincome_w_y   income_s_y  misc_income     subsidy  \n",
              "0    354000000.0          NaN  158600000.0  23100000.0  \n",
              "1            NaN  636000000.0          NaN         NaN  \n",
              "2            NaN  173000000.0   42320000.0  17640000.0  \n",
              "3    160000000.0          NaN   23560000.0   6720000.0  \n",
              "4            NaN          NaN  416360000.0  10920000.0  \n",
              "\n",
              "[5 rows x 23 columns]"
            ]
          },
          "execution_count": 121,
          "metadata": {},
          "output_type": "execute_result"
        }
      ],
      "source": [
        "final_df.head(5)"
      ]
    },
    {
      "cell_type": "code",
      "execution_count": 122,
      "metadata": {
        "id": "PvpvK9-PkKeW"
      },
      "outputs": [],
      "source": [
        "from sklearn.preprocessing import OneHotEncoder\n",
        "encoder = OneHotEncoder()\n",
        "encoder_province = encoder.fit_transform(final_df[['province']]).toarray()\n",
        "encoder_province_df = pd.DataFrame(encoder_province, columns=encoder.get_feature_names_out(['province']))\n",
        "final_df = final_df.drop(columns='province').reset_index(drop=True)\n",
        "final_df = pd.concat([final_df, encoder_province_df], axis=1)"
      ]
    },
    {
      "cell_type": "code",
      "execution_count": 123,
      "metadata": {
        "id": "rIKo18q0j1Lc"
      },
      "outputs": [],
      "source": [
        "encoder_tenure = encoder.fit_transform(final_df[['tenure']]).toarray()\n",
        "encoder_tenure_df = pd.DataFrame(encoder_tenure, columns=encoder.get_feature_names_out(['tenure']))\n",
        "final_df = final_df.drop(columns='tenure').reset_index(drop=True)\n",
        "final_df = pd.concat([final_df, encoder_tenure_df], axis=1)"
      ]
    },
    {
      "cell_type": "code",
      "execution_count": 124,
      "metadata": {},
      "outputs": [],
      "source": [
        "final_df.dropna(subset=[\"transportation_cost\"], inplace=True)"
      ]
    },
    {
      "cell_type": "code",
      "execution_count": 125,
      "metadata": {
        "id": "BGiq2yJunklc"
      },
      "outputs": [],
      "source": [
        "final_df['income_s_y'] = pd.to_numeric(final_df['income_s_y'], errors='coerce')"
      ]
    },
    {
      "cell_type": "code",
      "execution_count": 94,
      "metadata": {},
      "outputs": [],
      "source": [
        "# column_to_impute = ['netincome_w_y', 'income_s_y', 'misc_income', 'subsidy']\n",
        "# knn_imputer = KNNImputer(n_neighbors=3)\n",
        "# column_data_imputed = knn_imputer.fit_transform(final_df[column_to_impute])\n",
        "# final_df[column_to_impute] = column_data_imputed"
      ]
    },
    {
      "cell_type": "code",
      "execution_count": 126,
      "metadata": {},
      "outputs": [],
      "source": [
        "mean_Vehicle = final_df['Vehicle_purchase_expenses'].mean()\n",
        "final_df['Vehicle_purchase_expenses'].fillna(mean_Vehicle, inplace=True)\n",
        "\n",
        "mean_Insurance = final_df['Insurance_expenses'].mean()\n",
        "final_df['Insurance_expenses'].fillna(mean_Insurance, inplace=True)\n",
        "\n",
        "mean_netincome = final_df['netincome_w_y'].mean()\n",
        "final_df['netincome_w_y'].fillna(mean_netincome, inplace=True)\n",
        "\n",
        "mean_income = final_df['income_s_y'].mean()\n",
        "final_df['income_s_y'].fillna(mean_income, inplace=True)\n",
        "\n",
        "mean_misc = final_df['misc_income'].mean()\n",
        "final_df['misc_income'].fillna(mean_misc, inplace=True)\n",
        "\n",
        "mean_subsidy = final_df['subsidy'].mean()\n",
        "final_df['subsidy'].fillna(mean_subsidy, inplace=True)"
      ]
    },
    {
      "cell_type": "code",
      "execution_count": 127,
      "metadata": {
        "id": "pi4J68ATmE09"
      },
      "outputs": [],
      "source": [
        "final_df.drop(columns=['town', 'mean_age', 'dining_expenses', 'khanevartype', 'highly_educated_member_cnt', 'member_cnt', 'active_member_cnt'], inplace=True)"
      ]
    },
    {
      "cell_type": "code",
      "execution_count": 96,
      "metadata": {
        "id": "KwrJl6FwIBjK"
      },
      "outputs": [],
      "source": [
        "# final_df.Insurance_expenses.fillna(0, inplace=True)\n",
        "# final_df.Vehicle_purchase_expenses.fillna(0, inplace=True)"
      ]
    },
    {
      "cell_type": "code",
      "execution_count": 128,
      "metadata": {
        "id": "z3-wNsTsFNRu"
      },
      "outputs": [],
      "source": [
        "final_df[\"total_income\"] = final_df.netincome_w_y + final_df.income_s_y + final_df.subsidy + final_df.misc_income\n",
        "final_df = final_df.drop(columns=[\"netincome_w_y\", \"income_s_y\", \"subsidy\", \"misc_income\"])"
      ]
    },
    {
      "cell_type": "code",
      "execution_count": 56,
      "metadata": {
        "id": "-Of5_WtjFW8f"
      },
      "outputs": [],
      "source": [
        "# final_df['khanevartype'] = (final_df['khanevartype'] - 1)"
      ]
    },
    {
      "cell_type": "code",
      "execution_count": 129,
      "metadata": {
        "id": "w59sVeSSFi_M"
      },
      "outputs": [],
      "source": [
        "for col in final_df.columns:\n",
        "    if final_df[col].dtype == bool:\n",
        "        final_df[col] = final_df[col].astype(int)"
      ]
    },
    {
      "cell_type": "code",
      "execution_count": 130,
      "metadata": {},
      "outputs": [
        {
          "name": "stdout",
          "output_type": "stream",
          "text": [
            "<class 'pandas.core.frame.DataFrame'>\n",
            "Index: 137600 entries, 0 to 151823\n",
            "Data columns (total 50 columns):\n",
            " #   Column                          Non-Null Count   Dtype  \n",
            "---  ------                          --------------   -----  \n",
            " 0   Address                         137600 non-null  int64  \n",
            " 1   Fasl                            137600 non-null  int64  \n",
            " 2   Urban                           137600 non-null  int32  \n",
            " 3   Year                            137600 non-null  int64  \n",
            " 4   vehicle                         137600 non-null  int32  \n",
            " 5   motorcycle                      137600 non-null  int32  \n",
            " 6   bicycle                         137600 non-null  int32  \n",
            " 7   transportation_cost             137600 non-null  float64\n",
            " 8   Insurance_expenses              137600 non-null  float64\n",
            " 9   Vehicle_purchase_expenses       137600 non-null  float64\n",
            " 10  province_Alborz                 137600 non-null  float64\n",
            " 11  province_Ardebil                137600 non-null  float64\n",
            " 12  province_AzarbaijanGharbi       137600 non-null  float64\n",
            " 13  province_AzarbaijanSharghi      137600 non-null  float64\n",
            " 14  province_Boushehr               137600 non-null  float64\n",
            " 15  province_CharmahalBakhtiari     137600 non-null  float64\n",
            " 16  province_Esfahan                137600 non-null  float64\n",
            " 17  province_Fars                   137600 non-null  float64\n",
            " 18  province_Gilan                  137600 non-null  float64\n",
            " 19  province_Golestan               137600 non-null  float64\n",
            " 20  province_Hamedan                137600 non-null  float64\n",
            " 21  province_Hormozgan              137600 non-null  float64\n",
            " 22  province_Ilam                   137600 non-null  float64\n",
            " 23  province_Kerman                 137600 non-null  float64\n",
            " 24  province_Kermanshah             137600 non-null  float64\n",
            " 25  province_KhorasanJonoubi        137600 non-null  float64\n",
            " 26  province_KhorasanRazavi         137600 non-null  float64\n",
            " 27  province_KhorasanShomali        137600 non-null  float64\n",
            " 28  province_KohkilouyeBoyerahamad  137600 non-null  float64\n",
            " 29  province_Kordestan              137600 non-null  float64\n",
            " 30  province_Kouzestan              137600 non-null  float64\n",
            " 31  province_Lorestan               137600 non-null  float64\n",
            " 32  province_Markazi                137600 non-null  float64\n",
            " 33  province_Mazandaran             137600 non-null  float64\n",
            " 34  province_Qazvin                 137600 non-null  float64\n",
            " 35  province_Qom                    137600 non-null  float64\n",
            " 36  province_Semnan                 137600 non-null  float64\n",
            " 37  province_SistanBalouchestan     137600 non-null  float64\n",
            " 38  province_Tehran                 137600 non-null  float64\n",
            " 39  province_Yazd                   137600 non-null  float64\n",
            " 40  province_Zanjan                 137600 non-null  float64\n",
            " 41  tenure_Free                     137600 non-null  float64\n",
            " 42  tenure_Mortgage                 137600 non-null  float64\n",
            " 43  tenure_Other                    137600 non-null  float64\n",
            " 44  tenure_OwnedEstate              137600 non-null  float64\n",
            " 45  tenure_OwnedEstateLand          137600 non-null  float64\n",
            " 46  tenure_Rent                     137600 non-null  float64\n",
            " 47  tenure_Service                  137600 non-null  float64\n",
            " 48  tenure_nan                      137600 non-null  float64\n",
            " 49  total_income                    137600 non-null  float64\n",
            "dtypes: float64(43), int32(4), int64(3)\n",
            "memory usage: 51.4 MB\n"
          ]
        }
      ],
      "source": [
        "final_df.info()"
      ]
    },
    {
      "cell_type": "code",
      "execution_count": 131,
      "metadata": {
        "colab": {
          "base_uri": "https://localhost:8080/"
        },
        "id": "Z37hFzcLXaTv",
        "outputId": "07335987-74c3-4e89-c88b-0ddc24f7f281"
      },
      "outputs": [],
      "source": [
        "from sklearn.ensemble import IsolationForest\n",
        "columns_outlier = ['Insurance_expenses', 'Vehicle_purchase_expenses', 'total_income']\n",
        "iso_forest = IsolationForest(contamination=0.1, random_state=42)\n",
        "final_df['outlier']=iso_forest.fit_predict(final_df[columns_outlier])\n",
        "# np.unique(final_df['outlier'], return_counts=True)\n",
        "\n",
        "# Filter out the outliers\n",
        "df_clean = final_df[final_df['outlier'] == 1]\n",
        "\n",
        "# Drop the outlier column as it's no longer needed\n",
        "df_clean = df_clean.drop(columns=['outlier'])"
      ]
    },
    {
      "cell_type": "code",
      "execution_count": 132,
      "metadata": {
        "colab": {
          "base_uri": "https://localhost:8080/",
          "height": 956
        },
        "id": "lB_5dnltcPNn",
        "outputId": "57342946-2d86-49b6-c4ca-139966d2f1bd"
      },
      "outputs": [
        {
          "data": {
            "image/png": "[encoded data removed]",
            "text/plain": [
              "<Figure size 1500x1000 with 6 Axes>"
            ]
          },
          "metadata": {},
          "output_type": "display_data"
        }
      ],
      "source": [
        "import matplotlib.pyplot as plt\n",
        "# Plot histograms of the columns before and after removing outliers\n",
        "fig, axs = plt.subplots(3, 2, figsize=(15, 10))\n",
        "\n",
        "# Original data\n",
        "for i, column in enumerate(columns_outlier):\n",
        "    axs[i, 0].hist(final_df[column], bins=30, color='blue', alpha=0.7)\n",
        "    axs[i, 0].set_title(f'Original {column}')\n",
        "\n",
        "    # Filtered data\n",
        "    axs[i, 1].hist(df_clean[column], bins=30, color='green', alpha=0.7)\n",
        "    axs[i, 1].set_title(f'Filtered {column}')\n",
        "\n",
        "plt.tight_layout()\n",
        "plt.show()"
      ]
    },
    {
      "cell_type": "code",
      "execution_count": 133,
      "metadata": {
        "id": "LLGSQ34HzYPr"
      },
      "outputs": [],
      "source": [
        "winter_of_1401 = (df_clean['Year'] == 1401) & (df_clean['Fasl'] == 4)\n",
        "X_test = df_clean[winter_of_1401]\n",
        "X_train = df_clean[~winter_of_1401]\n",
        "\n",
        "y_test = X_test.pop(\"transportation_cost\")\n",
        "y_train = X_train.pop(\"transportation_cost\")"
      ]
    },
    {
      "cell_type": "code",
      "execution_count": 149,
      "metadata": {
        "id": "66kX3naVUtdD"
      },
      "outputs": [],
      "source": [
        "X_train_copy = X_train.copy()\n",
        "X_test_copy = X_test.copy()\n",
        "columns_standard = ['Insurance_expenses', 'Vehicle_purchase_expenses', 'total_income']\n",
        "\n",
        "# Extract the columns to be standardized from the training and test sets\n",
        "X_train_to_standardize = X_train_copy[columns_standard]\n",
        "X_test_to_standardize = X_test_copy[columns_standard]"
      ]
    },
    {
      "cell_type": "code",
      "execution_count": 150,
      "metadata": {
        "id": "Uc9AI-FggYmW"
      },
      "outputs": [],
      "source": [
        "from sklearn.preprocessing import StandardScaler\n",
        "scaler = StandardScaler()\n",
        "X_train_scaled = scaler.fit_transform(X_train_to_standardize)\n",
        "X_test_scaled = scaler.transform(X_test_to_standardize)\n",
        "\n",
        "# Convert the scaled data back to DataFrames\n",
        "X_train_scaled_df = pd.DataFrame(X_train_scaled, columns=columns_standard)\n",
        "X_test_scaled_df = pd.DataFrame(X_test_scaled, columns=columns_standard)\n",
        "\n",
        "# Replace the original columns with the standardized columns in the training and test sets\n",
        "X_train_copy[columns_standard] = X_train_scaled_df\n",
        "X_test_copy[columns_standard] = X_test_scaled_df\n"
      ]
    },
    {
      "cell_type": "code",
      "execution_count": 151,
      "metadata": {
        "colab": {
          "base_uri": "https://localhost:8080/",
          "height": 255
        },
        "id": "iW_nsJQegz2N",
        "outputId": "a4f5a9d9-8dfc-4308-9e55-4baac3227e8e"
      },
      "outputs": [
        {
          "data": {
            "text/html": [
              "<div>\n",
              "<style scoped>\n",
              "    .dataframe tbody tr th:only-of-type {\n",
              "        vertical-align: middle;\n",
              "    }\n",
              "\n",
              "    .dataframe tbody tr th {\n",
              "        vertical-align: top;\n",
              "    }\n",
              "\n",
              "    .dataframe thead th {\n",
              "        text-align: right;\n",
              "    }\n",
              "</style>\n",
              "<table border=\"1\" class=\"dataframe\">\n",
              "  <thead>\n",
              "    <tr style=\"text-align: right;\">\n",
              "      <th></th>\n",
              "      <th>Address</th>\n",
              "      <th>Fasl</th>\n",
              "      <th>Urban</th>\n",
              "      <th>Year</th>\n",
              "      <th>vehicle</th>\n",
              "      <th>motorcycle</th>\n",
              "      <th>bicycle</th>\n",
              "      <th>Insurance_expenses</th>\n",
              "      <th>Vehicle_purchase_expenses</th>\n",
              "      <th>province_Alborz</th>\n",
              "      <th>...</th>\n",
              "      <th>province_Zanjan</th>\n",
              "      <th>tenure_Free</th>\n",
              "      <th>tenure_Mortgage</th>\n",
              "      <th>tenure_Other</th>\n",
              "      <th>tenure_OwnedEstate</th>\n",
              "      <th>tenure_OwnedEstateLand</th>\n",
              "      <th>tenure_Rent</th>\n",
              "      <th>tenure_Service</th>\n",
              "      <th>tenure_nan</th>\n",
              "      <th>total_income</th>\n",
              "    </tr>\n",
              "  </thead>\n",
              "  <tbody>\n",
              "    <tr>\n",
              "      <th>1</th>\n",
              "      <td>20001383923</td>\n",
              "      <td>2</td>\n",
              "      <td>0</td>\n",
              "      <td>1400</td>\n",
              "      <td>0</td>\n",
              "      <td>1</td>\n",
              "      <td>0</td>\n",
              "      <td>0.232039</td>\n",
              "      <td>-1.327734</td>\n",
              "      <td>0.0</td>\n",
              "      <td>...</td>\n",
              "      <td>0.0</td>\n",
              "      <td>0.0</td>\n",
              "      <td>0.0</td>\n",
              "      <td>0.0</td>\n",
              "      <td>0.0</td>\n",
              "      <td>1.0</td>\n",
              "      <td>0.0</td>\n",
              "      <td>0.0</td>\n",
              "      <td>0.0</td>\n",
              "      <td>-0.804732</td>\n",
              "    </tr>\n",
              "    <tr>\n",
              "      <th>2</th>\n",
              "      <td>20001383925</td>\n",
              "      <td>2</td>\n",
              "      <td>0</td>\n",
              "      <td>1400</td>\n",
              "      <td>0</td>\n",
              "      <td>1</td>\n",
              "      <td>0</td>\n",
              "      <td>0.232039</td>\n",
              "      <td>0.772248</td>\n",
              "      <td>0.0</td>\n",
              "      <td>...</td>\n",
              "      <td>0.0</td>\n",
              "      <td>0.0</td>\n",
              "      <td>0.0</td>\n",
              "      <td>0.0</td>\n",
              "      <td>0.0</td>\n",
              "      <td>1.0</td>\n",
              "      <td>0.0</td>\n",
              "      <td>0.0</td>\n",
              "      <td>0.0</td>\n",
              "      <td>-1.035210</td>\n",
              "    </tr>\n",
              "    <tr>\n",
              "      <th>3</th>\n",
              "      <td>20001383929</td>\n",
              "      <td>2</td>\n",
              "      <td>0</td>\n",
              "      <td>1400</td>\n",
              "      <td>0</td>\n",
              "      <td>0</td>\n",
              "      <td>0</td>\n",
              "      <td>0.232039</td>\n",
              "      <td>0.772248</td>\n",
              "      <td>0.0</td>\n",
              "      <td>...</td>\n",
              "      <td>0.0</td>\n",
              "      <td>1.0</td>\n",
              "      <td>0.0</td>\n",
              "      <td>0.0</td>\n",
              "      <td>0.0</td>\n",
              "      <td>0.0</td>\n",
              "      <td>0.0</td>\n",
              "      <td>0.0</td>\n",
              "      <td>0.0</td>\n",
              "      <td>0.799203</td>\n",
              "    </tr>\n",
              "    <tr>\n",
              "      <th>4</th>\n",
              "      <td>20001383932</td>\n",
              "      <td>2</td>\n",
              "      <td>0</td>\n",
              "      <td>1400</td>\n",
              "      <td>0</td>\n",
              "      <td>0</td>\n",
              "      <td>0</td>\n",
              "      <td>0.232039</td>\n",
              "      <td>0.772248</td>\n",
              "      <td>0.0</td>\n",
              "      <td>...</td>\n",
              "      <td>0.0</td>\n",
              "      <td>0.0</td>\n",
              "      <td>0.0</td>\n",
              "      <td>0.0</td>\n",
              "      <td>0.0</td>\n",
              "      <td>1.0</td>\n",
              "      <td>0.0</td>\n",
              "      <td>0.0</td>\n",
              "      <td>0.0</td>\n",
              "      <td>-1.723478</td>\n",
              "    </tr>\n",
              "    <tr>\n",
              "      <th>5</th>\n",
              "      <td>20001383935</td>\n",
              "      <td>2</td>\n",
              "      <td>0</td>\n",
              "      <td>1400</td>\n",
              "      <td>0</td>\n",
              "      <td>0</td>\n",
              "      <td>1</td>\n",
              "      <td>-0.047477</td>\n",
              "      <td>-0.417943</td>\n",
              "      <td>0.0</td>\n",
              "      <td>...</td>\n",
              "      <td>0.0</td>\n",
              "      <td>0.0</td>\n",
              "      <td>0.0</td>\n",
              "      <td>0.0</td>\n",
              "      <td>0.0</td>\n",
              "      <td>1.0</td>\n",
              "      <td>0.0</td>\n",
              "      <td>0.0</td>\n",
              "      <td>0.0</td>\n",
              "      <td>0.297882</td>\n",
              "    </tr>\n",
              "  </tbody>\n",
              "</table>\n",
              "<p>5 rows × 49 columns</p>\n",
              "</div>"
            ],
            "text/plain": [
              "       Address  Fasl  Urban  Year  vehicle  motorcycle  bicycle  \\\n",
              "1  20001383923     2      0  1400        0           1        0   \n",
              "2  20001383925     2      0  1400        0           1        0   \n",
              "3  20001383929     2      0  1400        0           0        0   \n",
              "4  20001383932     2      0  1400        0           0        0   \n",
              "5  20001383935     2      0  1400        0           0        1   \n",
              "\n",
              "   Insurance_expenses  Vehicle_purchase_expenses  province_Alborz  ...  \\\n",
              "1            0.232039                  -1.327734              0.0  ...   \n",
              "2            0.232039                   0.772248              0.0  ...   \n",
              "3            0.232039                   0.772248              0.0  ...   \n",
              "4            0.232039                   0.772248              0.0  ...   \n",
              "5           -0.047477                  -0.417943              0.0  ...   \n",
              "\n",
              "   province_Zanjan  tenure_Free  tenure_Mortgage  tenure_Other  \\\n",
              "1              0.0          0.0              0.0           0.0   \n",
              "2              0.0          0.0              0.0           0.0   \n",
              "3              0.0          1.0              0.0           0.0   \n",
              "4              0.0          0.0              0.0           0.0   \n",
              "5              0.0          0.0              0.0           0.0   \n",
              "\n",
              "   tenure_OwnedEstate  tenure_OwnedEstateLand  tenure_Rent  tenure_Service  \\\n",
              "1                 0.0                     1.0          0.0             0.0   \n",
              "2                 0.0                     1.0          0.0             0.0   \n",
              "3                 0.0                     0.0          0.0             0.0   \n",
              "4                 0.0                     1.0          0.0             0.0   \n",
              "5                 0.0                     1.0          0.0             0.0   \n",
              "\n",
              "   tenure_nan  total_income  \n",
              "1         0.0     -0.804732  \n",
              "2         0.0     -1.035210  \n",
              "3         0.0      0.799203  \n",
              "4         0.0     -1.723478  \n",
              "5         0.0      0.297882  \n",
              "\n",
              "[5 rows x 49 columns]"
            ]
          },
          "execution_count": 151,
          "metadata": {},
          "output_type": "execute_result"
        }
      ],
      "source": [
        "X_train_copy.head()"
      ]
    },
    {
      "cell_type": "code",
      "execution_count": 137,
      "metadata": {
        "id": "SO5BfsQYLZtE"
      },
      "outputs": [],
      "source": [
        "from sklearn.impute import SimpleImputer\n",
        "from sklearn.ensemble import RandomForestRegressor\n",
        "from sklearn.metrics import mean_squared_error, r2_score\n",
        "from sklearn.linear_model import Ridge, Lasso\n",
        "from sklearn.model_selection import GridSearchCV\n",
        "from statsmodels.stats.outliers_influence import variance_inflation_factor"
      ]
    },
    {
      "cell_type": "code",
      "execution_count": 152,
      "metadata": {
        "id": "WwXzQNavOoAd"
      },
      "outputs": [],
      "source": [
        "imputer = SimpleImputer(strategy='mean')\n",
        "X_train_imputed = imputer.fit_transform(X_train_copy)\n",
        "X_test_imputed = imputer.transform(X_test_copy)\n",
        "column_names = X_train_copy.columns\n",
        "X_train_imputed = pd.DataFrame(X_train_imputed, columns=column_names)\n",
        "X_test_imputed = pd.DataFrame(X_test_imputed, columns=column_names)"
      ]
    },
    {
      "cell_type": "code",
      "execution_count": 139,
      "metadata": {
        "id": "tp7ovaXKOQuL"
      },
      "outputs": [],
      "source": [
        "def calculate_vif(X):\n",
        "    vif_data = pd.DataFrame()\n",
        "    vif_data[\"Feature\"] = X.columns\n",
        "    vif_data[\"VIF\"] = [variance_inflation_factor(X.values, i) for i in range(X.shape[1])]\n",
        "    return vif_data"
      ]
    },
    {
      "cell_type": "code",
      "execution_count": 140,
      "metadata": {
        "colab": {
          "base_uri": "https://localhost:8080/",
          "height": 351
        },
        "id": "UsbnP-KhOSJ5",
        "outputId": "c11f5ffb-fdb6-4bbe-a959-dc34d3e17a84"
      },
      "outputs": [
        {
          "name": "stderr",
          "output_type": "stream",
          "text": [
            "c:\\Users\\sazgar\\AppData\\Local\\Programs\\Python\\Python310\\lib\\site-packages\\statsmodels\\stats\\outliers_influence.py:197: RuntimeWarning: divide by zero encountered in scalar divide\n",
            "  vif = 1. / (1. - r_squared_i)\n"
          ]
        },
        {
          "name": "stdout",
          "output_type": "stream",
          "text": [
            "VIF values:\n",
            "                           Feature           VIF\n",
            "0                          Address  1.118971e+06\n",
            "1                             Fasl  1.020935e+00\n",
            "2                            Urban  1.101788e+06\n",
            "3                             Year  1.024569e+00\n",
            "4                          vehicle  1.100685e+00\n",
            "5                       motorcycle  1.161992e+00\n",
            "6                          bicycle  1.045572e+00\n",
            "7               Insurance_expenses  1.072259e+00\n",
            "8        Vehicle_purchase_expenses  1.071872e+00\n",
            "9                  province_Alborz  4.539919e+11\n",
            "10                province_Ardebil  1.233018e+12\n",
            "11       province_AzarbaijanGharbi  8.129975e+11\n",
            "12      province_AzarbaijanSharghi  9.147151e+11\n",
            "13               province_Boushehr  2.001600e+14\n",
            "14     province_CharmahalBakhtiari  1.140152e+14\n",
            "15                province_Esfahan  4.814110e+12\n",
            "16                   province_Fars  1.801440e+15\n",
            "17                  province_Gilan  2.196878e+13\n",
            "18               province_Golestan  6.433714e+14\n",
            "19                province_Hamedan  3.971428e+12\n",
            "20              province_Hormozgan  1.000800e+14\n",
            "21                   province_Ilam  2.972673e+13\n",
            "22                 province_Kerman  1.630557e+12\n",
            "23             province_Kermanshah  3.026613e+12\n",
            "24        province_KhorasanJonoubi  7.678772e+12\n",
            "25         province_KhorasanRazavi  7.370867e+12\n",
            "26        province_KhorasanShomali  3.053288e+13\n",
            "27  province_KohkilouyeBoyerahamad  1.081296e+13\n",
            "28              province_Kordestan  1.148877e+13\n",
            "29              province_Kouzestan  1.727171e+12\n",
            "30               province_Lorestan           inf\n",
            "31                province_Markazi  6.958590e+11\n",
            "32             province_Mazandaran  9.521352e+12\n",
            "33                 province_Qazvin  1.838204e+14\n",
            "34                    province_Qom  3.941882e+12\n",
            "35                 province_Semnan  1.723866e+12\n",
            "36     province_SistanBalouchestan  1.596738e+12\n",
            "37                 province_Tehran  7.505999e+14\n",
            "38                   province_Yazd  3.495227e+12\n",
            "39                 province_Zanjan  6.987742e+12\n",
            "40                     tenure_Free  4.330384e+12\n",
            "41                 tenure_Mortgage  1.801440e+15\n",
            "42                    tenure_Other  1.526644e+14\n",
            "43              tenure_OwnedEstate  2.315475e+13\n",
            "44          tenure_OwnedEstateLand  6.211322e+09\n",
            "45                     tenure_Rent  1.076129e+13\n",
            "46                  tenure_Service  5.652108e+11\n",
            "47                      tenure_nan           inf\n",
            "48                    total_income  1.035215e+00\n"
          ]
        }
      ],
      "source": [
        "# Calculate VIF for the training set\n",
        "vif_values = calculate_vif(X_train_imputed)\n",
        "print(\"VIF values:\")\n",
        "print(vif_values)"
      ]
    },
    {
      "cell_type": "code",
      "execution_count": 153,
      "metadata": {},
      "outputs": [],
      "source": [
        "X_train_imputed.drop(columns=['Fasl'], inplace=True)\n",
        "X_test_imputed.drop(columns=['Fasl'], inplace=True)"
      ]
    },
    {
      "cell_type": "code",
      "execution_count": 142,
      "metadata": {
        "id": "6qY-LcI_KaoL"
      },
      "outputs": [],
      "source": [
        "def train_ridge_model(X_train, y_train, alpha):\n",
        "    ridge_reg = Ridge(alpha=alpha)\n",
        "    ridge_reg.fit(X_train, y_train)\n",
        "    return ridge_reg"
      ]
    },
    {
      "cell_type": "code",
      "execution_count": 154,
      "metadata": {
        "id": "o-nURBYpK5C4"
      },
      "outputs": [
        {
          "name": "stdout",
          "output_type": "stream",
          "text": [
            "\n",
            "Mean squared error on test set: 23205391150881.38\n",
            "\n",
            "r2_score error on test set: 0.07\n"
          ]
        },
        {
          "name": "stderr",
          "output_type": "stream",
          "text": [
            "c:\\Users\\sazgar\\AppData\\Local\\Programs\\Python\\Python310\\lib\\site-packages\\sklearn\\linear_model\\_ridge.py:204: LinAlgWarning: Ill-conditioned matrix (rcond=3.07701e-26): result may not be accurate.\n",
            "  return linalg.solve(A, Xy, assume_a=\"pos\", overwrite_a=True).T\n"
          ]
        }
      ],
      "source": [
        "ridge_model = train_ridge_model(X_train_imputed, y_train, alpha=0.1)\n",
        "\n",
        "# Evaluate the model on the test set\n",
        "y_pred = ridge_model.predict(X_test_imputed)\n",
        "mse = mean_squared_error(y_test, y_pred)\n",
        "print(f\"\\nMean squared error on test set: {mse:.2f}\")\n",
        "r2 = r2_score(y_test, y_pred)\n",
        "print(f\"\\nr2_score error on test set: {r2:.2f}\")"
      ]
    },
    {
      "cell_type": "code",
      "execution_count": 144,
      "metadata": {},
      "outputs": [],
      "source": [
        "from sklearn.model_selection import GridSearchCV\n",
        "from sklearn.model_selection import cross_val_score"
      ]
    },
    {
      "cell_type": "code",
      "execution_count": 155,
      "metadata": {
        "id": "ds4H2DdviAMe"
      },
      "outputs": [
        {
          "name": "stdout",
          "output_type": "stream",
          "text": [
            "Fitting 5 folds for each of 4 candidates, totalling 20 fits\n",
            "best params:  RandomForestRegressor(max_depth=10, n_estimators=200, random_state=42)\n"
          ]
        }
      ],
      "source": [
        "model = RandomForestRegressor(n_estimators=200, random_state=42)\n",
        "# model.fit(X_train_imputed, y_train)\n",
        "param_grid = {'max_depth': [5, 10, 15, 20]}\n",
        "grid_search = GridSearchCV(model, param_grid=param_grid, cv=5, n_jobs=-1, verbose=2)\n",
        "grid_search.fit(X_train_imputed, y_train)\n",
        "best_params = grid_search.best_estimator_\n",
        "print(\"best params: \", best_params)"
      ]
    },
    {
      "cell_type": "code",
      "execution_count": 156,
      "metadata": {},
      "outputs": [
        {
          "name": "stdout",
          "output_type": "stream",
          "text": [
            "Cross-validation scores: [0.01930811 0.19553804 0.1284705  0.17865368 0.14032228]\n",
            "Mean cross-validation score: 0.13245852010924355\n"
          ]
        }
      ],
      "source": [
        "cv_scores = cross_val_score(best_params, X_train_imputed, y_train, cv = 5)\n",
        "print(f\"Cross-validation scores: {cv_scores}\")\n",
        "print(f\"Mean cross-validation score: {cv_scores.mean()}\")"
      ]
    },
    {
      "cell_type": "code",
      "execution_count": 45,
      "metadata": {
        "colab": {
          "base_uri": "https://localhost:8080/"
        },
        "id": "9w8uHtqJLACG",
        "outputId": "0b6b49b1-7937-48f4-e919-73b22dbfdb7b"
      },
      "outputs": [],
      "source": [
        "# param_grid = {\n",
        "#     'n_estimators': [50, 100, 200],\n",
        "#     'max_depth': [10, 15, 20, None],\n",
        "#     'min_samples_split': [2, 5, 10]\n",
        "# }\n",
        "# param_grid = {'alpha': [0.01, 0.1, 1, 10, 100]}\n",
        "\n",
        "# lasso = Lasso()\n",
        "# lasso_cv = GridSearchCV(lasso, param_grid, cv=5, scoring='neg_mean_squared_error')\n",
        "# lasso_cv.fit(X_train_imputed, y_train)\n",
        "# best_lasso = lasso_cv.best_estimator_\n",
        "\n",
        "# ridge = Ridge()\n",
        "# ridge_cv = GridSearchCV(ridge, param_grid, cv=5, scoring='neg_mean_squared_error')\n",
        "# ridge_cv.fit(X_train_imputed, y_train)\n",
        "# best_ridge = ridge_cv.best_estimator_"
      ]
    },
    {
      "cell_type": "code",
      "execution_count": 46,
      "metadata": {
        "colab": {
          "base_uri": "https://localhost:8080/"
        },
        "id": "li38bPBFLpr4",
        "outputId": "9df351ad-a82a-4c83-8b8c-9aee9a7b37a9"
      },
      "outputs": [],
      "source": [
        "# # Training and Predictions with Ridge\n",
        "# y_train_pred_ridge = best_ridge.predict(X_train_imputed)\n",
        "# y_test_pred_ridge = best_ridge.predict(X_test_imputed)\n",
        "\n",
        "# # Training and Predictions with Lasso\n",
        "# y_train_pred_lasso = best_lasso.predict(X_train_imputed)\n",
        "# y_test_pred_lasso = best_lasso.predict(X_test_imputed)\n",
        "\n",
        "# # Evaluate the models\n",
        "# train_mse_ridge = mean_squared_error(y_train, y_train_pred_ridge)\n",
        "# test_mse_ridge = mean_squared_error(y_test, y_test_pred_ridge)\n",
        "# train_r2_ridge = r2_score(y_train, y_train_pred_ridge)\n",
        "# test_r2_ridge = r2_score(y_test, y_test_pred_ridge)\n",
        "\n",
        "# train_mse_lasso = mean_squared_error(y_train, y_train_pred_lasso)\n",
        "# test_mse_lasso = mean_squared_error(y_test, y_test_pred_lasso)\n",
        "# train_r2_lasso = r2_score(y_train, y_train_pred_lasso)\n",
        "# test_r2_lasso = r2_score(y_test, y_test_pred_lasso)\n",
        "\n",
        "# print(\"Ridge Regression\")\n",
        "# print(f\"Train MSE: {train_mse_ridge}\")\n",
        "# print(f\"Test MSE: {test_mse_ridge}\")\n",
        "# print(f\"Train R2: {train_r2_ridge}\")\n",
        "# print(f\"Test R2: {test_r2_ridge}\")\n",
        "\n",
        "# print(\"\\nLasso Regression\")\n",
        "# print(f\"Train MSE: {train_mse_lasso}\")\n",
        "# print(f\"Test MSE: {test_mse_lasso}\")\n",
        "# print(f\"Train R2: {train_r2_lasso}\")\n",
        "# print(f\"Test R2: {test_r2_lasso}\")"
      ]
    },
    {
      "cell_type": "code",
      "execution_count": 157,
      "metadata": {
        "id": "06Pr3TOyikVv"
      },
      "outputs": [],
      "source": [
        "y_train_pred = best_params.predict(X_train_imputed)\n",
        "y_test_pred = best_params.predict(X_test_imputed)"
      ]
    },
    {
      "cell_type": "code",
      "execution_count": 158,
      "metadata": {
        "colab": {
          "base_uri": "https://localhost:8080/"
        },
        "id": "2gFVZLtbiw3E",
        "outputId": "da1fb44c-f2e0-432b-f61c-5fabcf060e96"
      },
      "outputs": [
        {
          "name": "stdout",
          "output_type": "stream",
          "text": [
            "Train MSE: 4271514285184.567\n",
            "Test MSE: 22821232271838.32\n",
            "Train R2: 0.42110697692817145\n",
            "Test R2: 0.08396212524702262\n"
          ]
        }
      ],
      "source": [
        "# Evaluate the model\n",
        "train_mse = mean_squared_error(y_train, y_train_pred)\n",
        "test_mse = mean_squared_error(y_test, y_test_pred)\n",
        "train_r2 = r2_score(y_train, y_train_pred)\n",
        "test_r2 = r2_score(y_test, y_test_pred)\n",
        "\n",
        "print(f\"Train MSE: {train_mse}\")\n",
        "print(f\"Test MSE: {test_mse}\")\n",
        "print(f\"Train R2: {train_r2}\")\n",
        "print(f\"Test R2: {test_r2}\")"
      ]
    }
  ],
  "metadata": {
    "colab": {
      "provenance": []
    },
    "kernelspec": {
      "display_name": "Python 3",
      "name": "python3"
    },
    "language_info": {
      "codemirror_mode": {
        "name": "ipython",
        "version": 3
      },
      "file_extension": ".py",
      "mimetype": "text/x-python",
      "name": "python",
      "nbconvert_exporter": "python",
      "pygments_lexer": "ipython3",
      "version": "3.10.4"
    }
  },
  "nbformat": 4,
  "nbformat_minor": 0
}
