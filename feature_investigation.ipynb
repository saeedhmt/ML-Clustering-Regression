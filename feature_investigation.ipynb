{
 "cells": [
  {
   "cell_type": "markdown",
   "metadata": {},
   "source": [
    "# <h1 style=\"text-align: center; color:magenta\"> Prediction Section </h1>"
   ]
  },
  {
   "cell_type": "markdown",
   "metadata": {},
   "source": [
    "## <h2 style=\"text-align: left; color:cyan\"> Data Inspection </h2>"
   ]
  },
  {
   "cell_type": "code",
   "execution_count": 1,
   "metadata": {},
   "outputs": [],
   "source": [
    "import os\n",
    "import pandas as pd\n",
    "import numpy as np\n",
    "from pandas.api.types import is_string_dtype\n",
    "from sklearn.feature_selection import mutual_info_regression"
   ]
  },
  {
   "cell_type": "code",
   "execution_count": 2,
   "metadata": {},
   "outputs": [],
   "source": [
    "def empty_string_remover(df):\n",
    "    for col in df.columns:\n",
    "    # Checking if string dtype\n",
    "        if is_string_dtype(df[col]):\n",
    "            # replace cells with only empty strings with np.nan\n",
    "            df[col] = df[col].replace(r'^\\s*$', np.nan, regex=True)\n",
    "    return df\n",
    "\n",
    "def make_mi_scores(X, y):\n",
    "    mi_scores = mutual_info_regression(X, y, n_neighbors=3, random_state=42)\n",
    "    mi_scores = pd.Series(mi_scores, name=\"MI Scores\", index=X.columns)\n",
    "    mi_scores = mi_scores.sort_values(ascending=False)\n",
    "    return mi_scores\n",
    "\n",
    "def cat_target_relation(cat_df, col_name, year_df, agg_func=\"sum\"):\n",
    "    \"\"\"\n",
    "    input df will be grouped by addresses then merged with year_df\n",
    "\n",
    "    \"\"\"\n",
    "\n",
    "    col_one_hot = pd.get_dummies(cat_df[col_name])\n",
    "    col_one_hot_df = pd.concat((cat_df[[\"Address\"]], col_one_hot), axis=1)\n",
    "    grouped = (col_one_hot_df.groupby(\"Address\").agg(agg_func)\n",
    "                                .reset_index())\n",
    "    \n",
    "    df = pd.merge(left=year_df[[\"Address\", \"transportation_cost\"]], right=grouped, how=\"left\", on=\"Address\").fillna(0)\n",
    "    \n",
    "    mi_scores = make_mi_scores(df.drop([\"Address\", \"transportation_cost\"], axis=1), df.transportation_cost)\n",
    "    print(mi_scores)\n",
    "\n",
    "def family_bool_col_target_relation(df, col_name, year_df):\n",
    "    \"\"\"\n",
    "    input df should be grouped by addresses it will be merged with year_df\n",
    "    \n",
    "    \"\"\"\n",
    "    df = pd.merge(left=year_df[[\"Address\", \"transportation_cost\"]], right=df[[\"Address\", col_name]], how=\"left\", on=\"Address\")\n",
    "    if df[col_name].dtype == \"bool\":\n",
    "        df[col_name] = df[col_name].astype(float)\n",
    "        df.fillna({col_name: 0}, inplace=True)    \n",
    "    mi_scores = make_mi_scores(df.drop([\"Address\", \"transportation_cost\"], axis=1), year_df.transportation_cost)\n",
    "    print(mi_scores)\n",
    "  \n",
    "    "
   ]
  },
  {
   "cell_type": "code",
   "execution_count": 3,
   "metadata": {},
   "outputs": [],
   "source": [
    "# A dictionary of sheet description to better remember the purpose of each sheet.\n",
    "sheets_desc = {\"Data\": \"مشخصات پرسشنامه\",\n",
    "               \"P1\":\"قسمت یکم: خصوصیات اجتماعی اعضای خانوار\",\n",
    "               \"P2\": \"قسمت دوم: مشخصات محل سکونت\",\n",
    "               \"P3S01\": \"قسمت سوم: بخش ۱ هزینه‌های خوراکی خانوار در ماه گذشته\",\n",
    "               \"P3S02\": \"قسمت سوم: بخش ۲ هزینه‌های نوشیدنی‌های طبقه‌بندی نشده و دخانی های خانوار در ماه گذشته\",\n",
    "               \"P3S03\": \"قسمت سوم: بخش ۳ هزینه‌های پوشاک و کفش خانوار در ماه گذشته\",\n",
    "               \"P3S04\": \"قسمت سوم: بخش ۴ هزینه‌های بخش مسکن، آب، فاضلاب، سوخت و روشنایی خانوار در ماه گذشته\",\n",
    "               \"P3S05\": \"قسمت سوم: بخش ۵ هزینه‌های مبلمان و لوازم خانگی\",\n",
    "               \"P3S06\": \"قسمت سوم: بخش ۶ هزینه‌های بهداشتی و درمانی خانوار در ماه گذشته\",\n",
    "               \"P3S07\": \"قسمت سوم: بخش ۷ هزینه‌های حمل و نقل خانوار در ماه گذشته\",\n",
    "               \"P3S08\": \"قسمت سوم: بخش ۸ هزینه‌های ارتباطات خانوار در ماه گذشته\",\n",
    "               \"P3S09\": \"قسمت سوم: بخش ۹ هزینه‌های خدمات فرهنگی و تفریحات خانوار در ماه گذشته\",\n",
    "               \"P3S10\": \"قسمت سوم: بخش ۱۰ هزینه‌های آموزش و تحصیل\",  # empty sheet, included in P3S13\n",
    "               \"P3S11\": \"قسمت سوم: بخش ۱۱ هزینه‌های غذاهای آماده، هتل و رستوران خانوار در ماه گذشته\",\n",
    "               \"P3S12\": \"قسمت سوم: بخش ۱۲ هزینه‌های کالاها و خدمات متفرقه خانوار در ماه گذشته\",\n",
    "               \"P3S13\": \"قسمت سوم: بخش ۱۳ سایر هزینه‌ها و انتقالات در ۱۲ ماه گذشته\",\n",
    "               \"P3S14\": \"قسمت سوم: بخش ۱۴ سرمایه‌گذاری خانوار در ۱۲ ماه گذشته\",\n",
    "               \"P4S01\": \"قسمت چهارم: بخش ۱ درآمد پولی اعضای شاغل خانوار از مشاغل مزد و حقوق بگیری\",\n",
    "               \"P4S02\": \"قسمت چهارم: بخش ۲ درآمد پولی اعضای شاغل خانوار از مشاغل غیر مزد و حقوق بگیری (آزاد)\",\n",
    "               \"P4S03\": \"قسمت چهارم: بخش ۳ درآمدهای متفرقه خانوار در ۱۲ ماه گذشته\",\n",
    "               \"P4S04\": \"قسمت چهارم: ستون ۹ بخش ۳ شامل وام و یارانه\"\n",
    "               }"
   ]
  },
  {
   "cell_type": "markdown",
   "metadata": {},
   "source": [
    "#### Reading the files"
   ]
  },
  {
   "cell_type": "markdown",
   "metadata": {},
   "source": [
    "Looping through the data folder to get all the file names"
   ]
  },
  {
   "cell_type": "code",
   "execution_count": 4,
   "metadata": {},
   "outputs": [],
   "source": [
    "resource_directory = \"data\"\n",
    "resource_files : list[str] = []\n",
    "for f in os.listdir(resource_directory):\n",
    "    f_path = os.path.join(resource_directory, f)\n",
    "    if os.path.isfile(f_path):\n",
    "        resource_files.append(f)\n",
    "del f, f_path\n",
    "\n",
    "filename = \"U99.xlsx\"\n",
    "\n",
    "file_path = os.path.join(resource_directory, filename)\n",
    "year_file = pd.ExcelFile(file_path)\n",
    "\n",
    "if filename.startswith(\"U\"):\n",
    "    Urban = True\n",
    "else:\n",
    "    Urban = False\n",
    "\n",
    "year = int(filename.strip(\".xlsx\")[1:])\n",
    "if (year==99) or (year ==98):\n",
    "    year = 1300+year\n",
    "\n"
   ]
  },
  {
   "cell_type": "code",
   "execution_count": 5,
   "metadata": {},
   "outputs": [],
   "source": [
    "sheet_index = 0\n",
    "current_df = pd.read_excel(year_file, year_file.sheet_names[sheet_index])\n",
    "current_df = empty_string_remover(current_df)\n",
    "current_df[\"Year\"] = year\n",
    "current_df[\"Urban\"] = Urban\n",
    "current_df = current_df.loc[current_df.TakmilDescA.isna() | \n",
    "                        current_df.TakmilDescB.isna() | \n",
    "                        current_df.JaygozinDescA.isna() | \n",
    "                        current_df.JaygozinDescB.isna() |\n",
    "                        current_df.Jaygozin!=2, :]\n",
    "if \"JaygozinDescC\" in current_df.columns:\n",
    "    current_df = current_df.loc[current_df.JaygozinDescC.isna(), :]\n",
    "\n",
    "# We only consider addresses from this dataframe and do left join with other dfs\n",
    "year_df = current_df.loc[:, [\"Address\", \"Urban\", \"Year\", \"Fasl\", \"weight\", \"province\", \"town\"]].copy()"
   ]
  },
  {
   "cell_type": "code",
   "execution_count": 6,
   "metadata": {},
   "outputs": [],
   "source": [
    "sheet_index = 9\n",
    "current_df = pd.read_excel(year_file, year_file.sheet_names[sheet_index])\n",
    "current_df = empty_string_remover(current_df)\n",
    "transportation_cost_df = (current_df.groupby(\"Address\").agg({\"value\": \"sum\"})\n",
    "                    .rename(columns={\"value\": \"transportation_cost\"})\n",
    "                    .reset_index())\n",
    "year_df = pd.merge(year_df, transportation_cost_df, how=\"left\", on=\"Address\")\n",
    "year_df.dropna(subset=[\"transportation_cost\"], inplace=True)"
   ]
  },
  {
   "cell_type": "code",
   "execution_count": 7,
   "metadata": {},
   "outputs": [
    {
     "name": "stdout",
     "output_type": "stream",
     "text": [
      "Sheet name from sheets_desc dict: P1. Sheet name from file: R99P1\n",
      " Loaded sheet description: قسمت یکم: خصوصیات اجتماعی اعضای خانوار\n",
      "investigating relationship of one-hot encoded categorical columns with target variable (i.e transportation_cost)\n",
      "Child                0.049665\n",
      "OtherRelative        0.045153\n",
      "Head                 0.044494\n",
      "Spouse               0.041862\n",
      "Parent               0.041229\n",
      "SonDaughter_inLaw    0.035111\n",
      "GrandSonDaughter     0.033950\n",
      "NonRelative          0.032145\n",
      "Sibling              0.031958\n",
      "Name: MI Scores, dtype: float64\n",
      "Female    0.048906\n",
      "Male      0.040460\n",
      "Name: MI Scores, dtype: float64\n",
      "illiterate    0.048906\n",
      "literate      0.040460\n",
      "Name: MI Scores, dtype: float64\n",
      "No     0.048906\n",
      "Yes    0.040460\n",
      "Name: MI Scores, dtype: float64\n",
      "Bachelor      0.049665\n",
      "HighSchool    0.045153\n",
      "Diploma       0.044494\n",
      "Secondary     0.041862\n",
      "Master        0.041229\n",
      "PhD           0.035111\n",
      "College       0.033950\n",
      "Elemantry     0.032145\n",
      "Other         0.031958\n",
      "Name: MI Scores, dtype: float64\n",
      "Other          0.044662\n",
      "Housewife      0.044431\n",
      "unemployed     0.043300\n",
      "Student        0.041969\n",
      "IncomeWOJob    0.041301\n",
      "employed       0.037162\n",
      "Name: MI Scores, dtype: float64\n",
      "Single      0.044103\n",
      "Married     0.040174\n",
      "Divorced    0.039530\n",
      "Widowed     0.036696\n",
      "Name: MI Scores, dtype: float64\n"
     ]
    }
   ],
   "source": [
    "sheet_index=1\n",
    "sheet_name = list(sheets_desc.keys())[sheet_index]\n",
    "print(f\"Sheet name from sheets_desc dict: {sheet_name}.\", \n",
    "    f\"Sheet name from file: {year_file.sheet_names[sheet_index]}\\n\",\n",
    "    f\"Loaded sheet description: {sheets_desc[sheet_name]}\")\n",
    "current_df = pd.read_excel(year_file, year_file.sheet_names[sheet_index])\n",
    "current_df = empty_string_remover(current_df)\n",
    "current_df.fillna({\"studying\": \"No\"}, inplace=True)\n",
    "# Counting family members of each family\n",
    "family_member_count = (current_df.groupby(\"Address\")\n",
    "                    .agg({\"member\": \"count\"})\n",
    "                    .rename(columns={\"member\": \"member_cnt\"}).reset_index())\n",
    "family_mean_age = (current_df.groupby(\"Address\").agg({\"age\": \"mean\"})\n",
    "                    .rename(columns={\"age\": \"mean_age\"})\n",
    "                    .reset_index())\n",
    "\n",
    "\n",
    "\n",
    "\n",
    "print(\"investigating relationship of one-hot encoded categorical columns with target variable (i.e transportation_cost)\")\n",
    "for col in current_df.select_dtypes((object)):\n",
    "    cat_target_relation(current_df, col, year_df, \"count\")\n",
    "\n",
    "# Not much correlation between one-hot encoded columns of categorical columns and target"
   ]
  },
  {
   "cell_type": "code",
   "execution_count": 10,
   "metadata": {},
   "outputs": [
    {
     "name": "stdout",
     "output_type": "stream",
     "text": [
      "Sheet name from sheets_desc dict: P2. Sheet name from file: R99P2\n",
      " Loaded sheet description: قسمت دوم: مشخصات محل سکونت\n",
      "vehicle    0.244805\n",
      "Name: MI Scores, dtype: float64\n",
      "motorcycle    0.013095\n",
      "Name: MI Scores, dtype: float64\n",
      "bicycle    0\n",
      "Name: MI Scores, dtype: int64\n",
      "radio    0\n",
      "Name: MI Scores, dtype: int64\n",
      "radiotape    0.001817\n",
      "Name: MI Scores, dtype: float64\n",
      "TVbw    0\n",
      "Name: MI Scores, dtype: int64\n",
      "TV    0\n",
      "Name: MI Scores, dtype: int64\n",
      "VHS_VCD_DVD    0.002328\n",
      "Name: MI Scores, dtype: float64\n",
      "computer    0.033481\n",
      "Name: MI Scores, dtype: float64\n",
      "cellphone    0\n",
      "Name: MI Scores, dtype: int64\n",
      "freezer    0.004808\n",
      "Name: MI Scores, dtype: float64\n",
      "refridgerator    0.001827\n",
      "Name: MI Scores, dtype: float64\n",
      "fridge    0.004927\n",
      "Name: MI Scores, dtype: float64\n",
      "stove    0\n",
      "Name: MI Scores, dtype: int64\n",
      "vacuum    0.02049\n",
      "Name: MI Scores, dtype: float64\n",
      "washingmachine    0.033604\n",
      "Name: MI Scores, dtype: float64\n",
      "sewingmachine    0.010579\n",
      "Name: MI Scores, dtype: float64\n",
      "fan    0.003914\n",
      "Name: MI Scores, dtype: float64\n",
      "evapcoolingportable    0.002869\n",
      "Name: MI Scores, dtype: float64\n",
      "splitportable    0.00631\n",
      "Name: MI Scores, dtype: float64\n",
      "dishwasher    0.012755\n",
      "Name: MI Scores, dtype: float64\n",
      "microwave    0.012504\n",
      "Name: MI Scores, dtype: float64\n",
      "none    0\n",
      "Name: MI Scores, dtype: int64\n",
      "pipewater    0\n",
      "Name: MI Scores, dtype: int64\n",
      "electricity    0\n",
      "Name: MI Scores, dtype: int64\n",
      "pipegas    0\n",
      "Name: MI Scores, dtype: int64\n",
      "telephone    0.016509\n",
      "Name: MI Scores, dtype: float64\n",
      "internet    0.058227\n",
      "Name: MI Scores, dtype: float64\n",
      "bathroom    0.000155\n",
      "Name: MI Scores, dtype: float64\n",
      "kitchen    0.00005\n",
      "Name: MI Scores, dtype: float64\n",
      "evapcooling    0\n",
      "Name: MI Scores, dtype: int64\n",
      "centralcooling    0\n",
      "Name: MI Scores, dtype: int64\n",
      "centralheating    0.004548\n",
      "Name: MI Scores, dtype: float64\n",
      "package    0.001645\n",
      "Name: MI Scores, dtype: float64\n",
      "split    0.007305\n",
      "Name: MI Scores, dtype: float64\n",
      "wastewater    0\n",
      "Name: MI Scores, dtype: int64\n",
      "Free               0.006396\n",
      "Other              0.003228\n",
      "OwnedEstateLand    0.002026\n",
      "Rent               0.001778\n",
      "OwnedEstate        0.001021\n",
      "Mortgage           0.000000\n",
      "Service            0.000000\n",
      "Name: MI Scores, dtype: float64\n",
      "WoodKesht     0.008573\n",
      "BrickWood     0.008186\n",
      "Brick         0.000000\n",
      "Cement        0.000000\n",
      "KeshtGel      0.000000\n",
      "MetalBlock    0.000000\n",
      "Other         0.000000\n",
      "Wood          0.000000\n",
      "Name: MI Scores, dtype: float64\n",
      "LiquidGas      0.011491\n",
      "Electricity    0.000000\n",
      "NaturalGas     0.000000\n",
      "Oil            0.000000\n",
      "Name: MI Scores, dtype: float64\n",
      "Electricity    0.009559\n",
      "LiquidGas      0.002787\n",
      "Oil            0.002313\n",
      "NaturalGas     0.000087\n",
      "Wood           0.000000\n",
      "Name: MI Scores, dtype: float64\n",
      "Electricity    0.009559\n",
      "LiquidGas      0.002787\n",
      "Oil            0.002313\n",
      "NaturalGas     0.000087\n",
      "Wood           0.000000\n",
      "Name: MI Scores, dtype: float64\n"
     ]
    }
   ],
   "source": [
    "sheet_index=2\n",
    "sheet_name = list(sheets_desc.keys())[sheet_index]\n",
    "print(f\"Sheet name from sheets_desc dict: {sheet_name}.\", \n",
    "    f\"Sheet name from file: {year_file.sheet_names[sheet_index]}\\n\",\n",
    "    f\"Loaded sheet description: {sheets_desc[sheet_name]}\")\n",
    "current_df = pd.read_excel(year_file, year_file.sheet_names[sheet_index])\n",
    "current_df = empty_string_remover(current_df)\n",
    "for col in current_df.select_dtypes((bool)):\n",
    "    family_bool_col_target_relation(current_df, col, year_df)\n",
    "for col in current_df.select_dtypes((object)):\n",
    "    cat_target_relation(current_df, col, year_df, \"count\")\n",
    "\n",
    "# Best feature here is only maybe vehicle\n"
   ]
  },
  {
   "cell_type": "code",
   "execution_count": 11,
   "metadata": {},
   "outputs": [
    {
     "name": "stdout",
     "output_type": "stream",
     "text": [
      "Sheet name from sheets_desc dict: P3S01. Sheet name from file: U99P3S01\n",
      " Loaded sheet description: قسمت سوم: بخش ۱ هزینه‌های خوراکی خانوار در ماه گذشته\n"
     ]
    },
    {
     "data": {
      "text/plain": [
       "value    0.112302\n",
       "Name: MI Scores, dtype: float64"
      ]
     },
     "execution_count": 11,
     "metadata": {},
     "output_type": "execute_result"
    }
   ],
   "source": [
    "sheet_index=3\n",
    "sheet_name = list(sheets_desc.keys())[sheet_index]\n",
    "print(f\"Sheet name from sheets_desc dict: {sheet_name}.\",\n",
    "    f\"Sheet name from file: {year_file.sheet_names[sheet_index]}\\n\",\n",
    "    f\"Loaded sheet description: {sheets_desc[sheet_name]}\")\n",
    "current_df = pd.read_excel(year_file, year_file.sheet_names[sheet_index])\n",
    "current_df = empty_string_remover(current_df)\n",
    "current_df.value = pd.to_numeric(current_df.value, errors='coerce').fillna(0).astype(\"int64\")\n",
    "make_mi_scores(\n",
    "    pd.merge(left=year_df, \n",
    "             right=current_df.groupby(\"Address\").agg({\"value\": \"sum\"}).reset_index(), \n",
    "             on=\"Address\", how=\"left\").fillna(0).loc[:, [\"value\"]]\n",
    "    , year_df[\"transportation_cost\"])"
   ]
  },
  {
   "cell_type": "code",
   "execution_count": 12,
   "metadata": {},
   "outputs": [
    {
     "name": "stdout",
     "output_type": "stream",
     "text": [
      "Sheet name from sheets_desc dict: P3S02. Sheet name from file: U99P3S02\n",
      " Loaded sheet description: قسمت سوم: بخش ۲ هزینه‌های نوشیدنی‌های طبقه‌بندی نشده و دخانی های خانوار در ماه گذشته\n"
     ]
    },
    {
     "data": {
      "text/plain": [
       "value    0.001071\n",
       "Name: MI Scores, dtype: float64"
      ]
     },
     "execution_count": 12,
     "metadata": {},
     "output_type": "execute_result"
    }
   ],
   "source": [
    "sheet_index=4\n",
    "sheet_name = list(sheets_desc.keys())[sheet_index]\n",
    "print(f\"Sheet name from sheets_desc dict: {sheet_name}.\",\n",
    "    f\"Sheet name from file: {year_file.sheet_names[sheet_index]}\\n\",\n",
    "    f\"Loaded sheet description: {sheets_desc[sheet_name]}\")\n",
    "current_df = pd.read_excel(year_file, year_file.sheet_names[sheet_index])\n",
    "current_df = empty_string_remover(current_df)\n",
    "current_df.value = pd.to_numeric(current_df.value, errors='coerce').fillna(0).astype(\"int64\")\n",
    "make_mi_scores(\n",
    "    pd.merge(left=year_df, \n",
    "             right=current_df.groupby(\"Address\").agg({\"value\": \"sum\"}).reset_index(), \n",
    "             on=\"Address\", how=\"left\").fillna(0).loc[:, [\"value\"]]\n",
    "    , year_df[\"transportation_cost\"])\n",
    "\n",
    "# No good feature here"
   ]
  },
  {
   "cell_type": "code",
   "execution_count": 13,
   "metadata": {},
   "outputs": [
    {
     "name": "stdout",
     "output_type": "stream",
     "text": [
      "Sheet name from sheets_desc dict: P3S03. Sheet name from file: U99P3S03\n",
      " Loaded sheet description: قسمت سوم: بخش ۳ هزینه‌های پوشاک و کفش خانوار در ماه گذشته\n"
     ]
    },
    {
     "data": {
      "text/plain": [
       "value    0.036746\n",
       "Name: MI Scores, dtype: float64"
      ]
     },
     "execution_count": 13,
     "metadata": {},
     "output_type": "execute_result"
    }
   ],
   "source": [
    "sheet_index=5\n",
    "sheet_name = list(sheets_desc.keys())[sheet_index]\n",
    "print(f\"Sheet name from sheets_desc dict: {sheet_name}.\",\n",
    "    f\"Sheet name from file: {year_file.sheet_names[sheet_index]}\\n\",\n",
    "    f\"Loaded sheet description: {sheets_desc[sheet_name]}\")\n",
    "current_df = pd.read_excel(year_file, year_file.sheet_names[sheet_index])\n",
    "current_df = empty_string_remover(current_df)\n",
    "current_df.value = pd.to_numeric(current_df.value, errors='coerce').fillna(0).astype(\"int64\")\n",
    "make_mi_scores(\n",
    "    pd.merge(left=year_df, \n",
    "             right=current_df.groupby(\"Address\").agg({\"value\": \"sum\"}).reset_index(), \n",
    "             on=\"Address\", how=\"left\").fillna(0).loc[:, [\"value\"]]\n",
    "    , year_df[\"transportation_cost\"])\n",
    "\n",
    "# No good feature here"
   ]
  },
  {
   "cell_type": "code",
   "execution_count": 14,
   "metadata": {},
   "outputs": [
    {
     "name": "stdout",
     "output_type": "stream",
     "text": [
      "Sheet name from sheets_desc dict: P3S04. Sheet name from file: U99P3S04\n",
      " Loaded sheet description: قسمت سوم: بخش ۴ هزینه‌های بخش مسکن، آب، فاضلاب، سوخت و روشنایی خانوار در ماه گذشته\n"
     ]
    },
    {
     "data": {
      "text/plain": [
       "value    0.062095\n",
       "Name: MI Scores, dtype: float64"
      ]
     },
     "execution_count": 14,
     "metadata": {},
     "output_type": "execute_result"
    }
   ],
   "source": [
    "sheet_index=6\n",
    "sheet_name = list(sheets_desc.keys())[sheet_index]\n",
    "print(f\"Sheet name from sheets_desc dict: {sheet_name}.\",\n",
    "    f\"Sheet name from file: {year_file.sheet_names[sheet_index]}\\n\",\n",
    "    f\"Loaded sheet description: {sheets_desc[sheet_name]}\")\n",
    "current_df = pd.read_excel(year_file, year_file.sheet_names[sheet_index])\n",
    "current_df = empty_string_remover(current_df)\n",
    "current_df.value = pd.to_numeric(current_df.value, errors='coerce').fillna(0).astype(\"int64\")\n",
    "make_mi_scores(\n",
    "    pd.merge(left=year_df, \n",
    "             right=current_df.groupby(\"Address\").agg({\"value\": \"sum\"}).reset_index(), \n",
    "             on=\"Address\", how=\"left\").fillna(0).loc[:, [\"value\"]]\n",
    "    , year_df[\"transportation_cost\"])\n",
    "\n",
    "# No good feature here"
   ]
  },
  {
   "cell_type": "code",
   "execution_count": 15,
   "metadata": {},
   "outputs": [
    {
     "name": "stdout",
     "output_type": "stream",
     "text": [
      "Sheet name from sheets_desc dict: P3S05. Sheet name from file: U99P3S05\n",
      " Loaded sheet description: قسمت سوم: بخش ۵ هزینه‌های مبلمان و لوازم خانگی\n"
     ]
    },
    {
     "data": {
      "text/plain": [
       "value    0.060912\n",
       "Name: MI Scores, dtype: float64"
      ]
     },
     "execution_count": 15,
     "metadata": {},
     "output_type": "execute_result"
    }
   ],
   "source": [
    "sheet_index=7\n",
    "sheet_name = list(sheets_desc.keys())[sheet_index]\n",
    "print(f\"Sheet name from sheets_desc dict: {sheet_name}.\",\n",
    "    f\"Sheet name from file: {year_file.sheet_names[sheet_index]}\\n\",\n",
    "    f\"Loaded sheet description: {sheets_desc[sheet_name]}\")\n",
    "current_df = pd.read_excel(year_file, year_file.sheet_names[sheet_index])\n",
    "current_df = empty_string_remover(current_df)\n",
    "current_df.value = pd.to_numeric(current_df.value, errors='coerce').fillna(0).astype(\"int64\")\n",
    "make_mi_scores(\n",
    "    pd.merge(left=year_df, \n",
    "             right=current_df.groupby(\"Address\").agg({\"value\": \"sum\"}).reset_index(), \n",
    "             on=\"Address\", how=\"left\").fillna(0).loc[:, [\"value\"]]\n",
    "    , year_df[\"transportation_cost\"])\n",
    "\n",
    "# No good feature here"
   ]
  },
  {
   "cell_type": "code",
   "execution_count": 16,
   "metadata": {},
   "outputs": [
    {
     "name": "stdout",
     "output_type": "stream",
     "text": [
      "Sheet name from sheets_desc dict: P3S06. Sheet name from file: U99P3S06\n",
      " Loaded sheet description: قسمت سوم: بخش ۶ هزینه‌های بهداشتی و درمانی خانوار در ماه گذشته\n"
     ]
    },
    {
     "data": {
      "text/plain": [
       "value    0.02906\n",
       "Name: MI Scores, dtype: float64"
      ]
     },
     "execution_count": 16,
     "metadata": {},
     "output_type": "execute_result"
    }
   ],
   "source": [
    "sheet_index=8\n",
    "sheet_name = list(sheets_desc.keys())[sheet_index]\n",
    "print(f\"Sheet name from sheets_desc dict: {sheet_name}.\",\n",
    "    f\"Sheet name from file: {year_file.sheet_names[sheet_index]}\\n\",\n",
    "    f\"Loaded sheet description: {sheets_desc[sheet_name]}\")\n",
    "current_df = pd.read_excel(year_file, year_file.sheet_names[sheet_index])\n",
    "current_df = empty_string_remover(current_df)\n",
    "current_df.value = pd.to_numeric(current_df.value, errors='coerce').fillna(0).astype(\"int64\")\n",
    "make_mi_scores(\n",
    "    pd.merge(left=year_df, \n",
    "             right=current_df.groupby(\"Address\").agg({\"value\": \"sum\"}).reset_index(), \n",
    "             on=\"Address\", how=\"left\").fillna(0).loc[:, [\"value\"]]\n",
    "    , year_df[\"transportation_cost\"])\n",
    "\n",
    "# No good feature here"
   ]
  },
  {
   "cell_type": "code",
   "execution_count": 17,
   "metadata": {},
   "outputs": [
    {
     "name": "stdout",
     "output_type": "stream",
     "text": [
      "Sheet name from sheets_desc dict: P3S09. Sheet name from file: U99P3S09\n",
      " Loaded sheet description: قسمت سوم: بخش ۹ هزینه‌های خدمات فرهنگی و تفریحات خانوار در ماه گذشته\n"
     ]
    },
    {
     "data": {
      "text/plain": [
       "value    0.010085\n",
       "Name: MI Scores, dtype: float64"
      ]
     },
     "execution_count": 17,
     "metadata": {},
     "output_type": "execute_result"
    }
   ],
   "source": [
    "sheet_index=11\n",
    "sheet_name = list(sheets_desc.keys())[sheet_index]\n",
    "print(f\"Sheet name from sheets_desc dict: {sheet_name}.\",\n",
    "    f\"Sheet name from file: {year_file.sheet_names[sheet_index]}\\n\",\n",
    "    f\"Loaded sheet description: {sheets_desc[sheet_name]}\")\n",
    "current_df = pd.read_excel(year_file, year_file.sheet_names[sheet_index])\n",
    "current_df = empty_string_remover(current_df)\n",
    "current_df.value = pd.to_numeric(current_df.value, errors='coerce').fillna(0).astype(\"int64\")\n",
    "make_mi_scores(\n",
    "    pd.merge(left=year_df, \n",
    "             right=current_df.groupby(\"Address\").agg({\"value\": \"sum\"}).reset_index(), \n",
    "             on=\"Address\", how=\"left\").fillna(0).loc[:, [\"value\"]]\n",
    "    , year_df[\"transportation_cost\"])\n",
    "\n",
    "# No good feature here"
   ]
  },
  {
   "cell_type": "code",
   "execution_count": 18,
   "metadata": {},
   "outputs": [
    {
     "name": "stdout",
     "output_type": "stream",
     "text": [
      "Sheet name from sheets_desc dict: P3S11. Sheet name from file: U99P3S11\n",
      " Loaded sheet description: قسمت سوم: بخش ۱۱ هزینه‌های غذاهای آماده، هتل و رستوران خانوار در ماه گذشته\n"
     ]
    },
    {
     "data": {
      "text/plain": [
       "value    0.037606\n",
       "Name: MI Scores, dtype: float64"
      ]
     },
     "execution_count": 18,
     "metadata": {},
     "output_type": "execute_result"
    }
   ],
   "source": [
    "sheet_index=13\n",
    "sheet_name = list(sheets_desc.keys())[sheet_index]\n",
    "print(f\"Sheet name from sheets_desc dict: {sheet_name}.\",\n",
    "    f\"Sheet name from file: {year_file.sheet_names[sheet_index]}\\n\",\n",
    "    f\"Loaded sheet description: {sheets_desc[sheet_name]}\")\n",
    "current_df = pd.read_excel(year_file, year_file.sheet_names[sheet_index])\n",
    "current_df = empty_string_remover(current_df)\n",
    "current_df.value = pd.to_numeric(current_df.value, errors='coerce').fillna(0).astype(\"int64\")\n",
    "make_mi_scores(\n",
    "    pd.merge(left=year_df, \n",
    "             right=current_df.groupby(\"Address\").agg({\"value\": \"sum\"}).reset_index(), \n",
    "             on=\"Address\", how=\"left\").fillna(0).loc[:, [\"value\"]]\n",
    "    , year_df[\"transportation_cost\"])\n",
    "# No good feature here"
   ]
  },
  {
   "cell_type": "code",
   "execution_count": 19,
   "metadata": {},
   "outputs": [
    {
     "name": "stdout",
     "output_type": "stream",
     "text": [
      "Sheet name from sheets_desc dict: P3S12. Sheet name from file: U99P3S12\n",
      " Loaded sheet description: قسمت سوم: بخش ۱۲ هزینه‌های کالاها و خدمات متفرقه خانوار در ماه گذشته\n"
     ]
    },
    {
     "data": {
      "text/plain": [
       "value    0.094682\n",
       "Name: MI Scores, dtype: float64"
      ]
     },
     "execution_count": 19,
     "metadata": {},
     "output_type": "execute_result"
    }
   ],
   "source": [
    "sheet_index=14\n",
    "sheet_name = list(sheets_desc.keys())[sheet_index]\n",
    "print(f\"Sheet name from sheets_desc dict: {sheet_name}.\",\n",
    "    f\"Sheet name from file: {year_file.sheet_names[sheet_index]}\\n\",\n",
    "    f\"Loaded sheet description: {sheets_desc[sheet_name]}\")\n",
    "current_df = pd.read_excel(year_file, year_file.sheet_names[sheet_index])\n",
    "current_df = empty_string_remover(current_df)\n",
    "current_df.value = pd.to_numeric(current_df.value, errors='coerce').fillna(0).astype(\"int64\")\n",
    "make_mi_scores(\n",
    "    pd.merge(left=year_df, \n",
    "             right=current_df.groupby(\"Address\").agg({\"value\": \"sum\"}).reset_index(), \n",
    "             on=\"Address\", how=\"left\").fillna(0).loc[:, [\"value\"]]\n",
    "    , year_df[\"transportation_cost\"])\n",
    "# No good feature here"
   ]
  },
  {
   "cell_type": "code",
   "execution_count": 20,
   "metadata": {},
   "outputs": [
    {
     "name": "stdout",
     "output_type": "stream",
     "text": [
      "Sheet name from sheets_desc dict: P3S13. Sheet name from file: U99P3S13\n",
      " Loaded sheet description: قسمت سوم: بخش ۱۳ سایر هزینه‌ها و انتقالات در ۱۲ ماه گذشته\n"
     ]
    },
    {
     "data": {
      "text/plain": [
       "value    0.155787\n",
       "Name: MI Scores, dtype: float64"
      ]
     },
     "execution_count": 20,
     "metadata": {},
     "output_type": "execute_result"
    }
   ],
   "source": [
    "sheet_index=15\n",
    "sheet_name = list(sheets_desc.keys())[sheet_index]\n",
    "print(f\"Sheet name from sheets_desc dict: {sheet_name}.\",\n",
    "    f\"Sheet name from file: {year_file.sheet_names[sheet_index]}\\n\",\n",
    "    f\"Loaded sheet description: {sheets_desc[sheet_name]}\")\n",
    "current_df = pd.read_excel(year_file, year_file.sheet_names[sheet_index])\n",
    "current_df = empty_string_remover(current_df)\n",
    "current_df.value = pd.to_numeric(current_df.value, errors='coerce').fillna(0).astype(\"int64\")\n",
    "make_mi_scores(\n",
    "    pd.merge(left=year_df, \n",
    "             right=current_df.groupby(\"Address\").agg({\"value\": \"sum\"}).reset_index(), \n",
    "             on=\"Address\", how=\"left\").fillna(0).loc[:, [\"value\"]]\n",
    "    , year_df[\"transportation_cost\"])\n"
   ]
  },
  {
   "cell_type": "code",
   "execution_count": 21,
   "metadata": {},
   "outputs": [
    {
     "name": "stdout",
     "output_type": "stream",
     "text": [
      "Sheet name from sheets_desc dict: P3S14. Sheet name from file: U99P3S14\n",
      " Loaded sheet description: قسمت سوم: بخش ۱۴ سرمایه‌گذاری خانوار در ۱۲ ماه گذشته\n"
     ]
    },
    {
     "data": {
      "text/plain": [
       "value    0.005844\n",
       "Name: MI Scores, dtype: float64"
      ]
     },
     "execution_count": 21,
     "metadata": {},
     "output_type": "execute_result"
    }
   ],
   "source": [
    "sheet_index=16\n",
    "sheet_name = list(sheets_desc.keys())[sheet_index]\n",
    "print(f\"Sheet name from sheets_desc dict: {sheet_name}.\",\n",
    "    f\"Sheet name from file: {year_file.sheet_names[sheet_index]}\\n\",\n",
    "    f\"Loaded sheet description: {sheets_desc[sheet_name]}\")\n",
    "current_df = pd.read_excel(year_file, year_file.sheet_names[sheet_index])\n",
    "current_df = empty_string_remover(current_df)\n",
    "current_df.value = pd.to_numeric(current_df.value, errors='coerce').fillna(0).astype(\"int64\")\n",
    "make_mi_scores(\n",
    "    pd.merge(left=year_df, \n",
    "             right=current_df.groupby(\"Address\").agg({\"value\": \"sum\"}).reset_index(), \n",
    "             on=\"Address\", how=\"left\").fillna(0).loc[:, [\"value\"]]\n",
    "    , year_df[\"transportation_cost\"])\n",
    "\n",
    "# no good feature here"
   ]
  },
  {
   "cell_type": "code",
   "execution_count": 47,
   "metadata": {},
   "outputs": [
    {
     "name": "stdout",
     "output_type": "stream",
     "text": [
      "Sheet name from sheets_desc dict: P4S01. Sheet name from file: U99P4S01\n",
      " Loaded sheet description: قسمت چهارم: بخش ۱ درآمد پولی اعضای شاغل خانوار از مشاغل مزد و حقوق بگیری\n",
      "employed_w    0.004972\n",
      "Name: MI Scores, dtype: float64\n",
      "netincome_w_m    0.062906\n",
      "Name: MI Scores, dtype: float64\n"
     ]
    }
   ],
   "source": [
    "sheet_index=17\n",
    "sheet_name = list(sheets_desc.keys())[sheet_index]\n",
    "print(f\"Sheet name from sheets_desc dict: {sheet_name}.\",\n",
    "    f\"Sheet name from file: {year_file.sheet_names[sheet_index]}\\n\",\n",
    "    f\"Loaded sheet description: {sheets_desc[sheet_name]}\")\n",
    "current_df = pd.read_excel(year_file, year_file.sheet_names[sheet_index])\n",
    "current_df = empty_string_remover(current_df)\n",
    "\n",
    "col = \"employed_w\"\n",
    "temp_df = current_df.copy()\n",
    "temp_df[col] = temp_df[col].replace({2:0})\n",
    "grouped = (temp_df.groupby(\"Address\").agg({col: \"sum\"})\n",
    "                        .reset_index())\n",
    "\n",
    "df = pd.merge(left=year_df[[\"Address\", \"transportation_cost\"]], right=grouped, how=\"left\", on=\"Address\")\n",
    "df.fillna({col:0}, inplace=True)\n",
    "\n",
    "print(make_mi_scores(df.drop([\"Address\", \"transportation_cost\"], axis=1), year_df.transportation_cost))\n",
    "\n",
    "col = \"netincome_w_m\"\n",
    "temp_df = current_df.copy()\n",
    "grouped = (temp_df.groupby(\"Address\").agg({col: \"sum\"})\n",
    "                        .reset_index())\n",
    "\n",
    "df = pd.merge(left=year_df[[\"Address\", \"transportation_cost\"]], right=grouped, how=\"left\", on=\"Address\")\n",
    "df.fillna({col:0}, inplace=True)\n",
    "\n",
    "print(make_mi_scores(df.drop([\"Address\", \"transportation_cost\"], axis=1), year_df.transportation_cost))\n",
    "\n",
    "# no good features here"
   ]
  },
  {
   "cell_type": "code",
   "execution_count": 60,
   "metadata": {},
   "outputs": [
    {
     "name": "stdout",
     "output_type": "stream",
     "text": [
      "Sheet name from sheets_desc dict: P4S02. Sheet name from file: U99P4S02\n",
      " Loaded sheet description: قسمت چهارم: بخش ۲ درآمد پولی اعضای شاغل خانوار از مشاغل غیر مزد و حقوق بگیری (آزاد)\n",
      "income_s_y    0.009299\n",
      "Name: MI Scores, dtype: float64\n"
     ]
    }
   ],
   "source": [
    "sheet_index=18\n",
    "sheet_name = list(sheets_desc.keys())[sheet_index]\n",
    "print(f\"Sheet name from sheets_desc dict: {sheet_name}.\",\n",
    "    f\"Sheet name from file: {year_file.sheet_names[sheet_index]}\\n\",\n",
    "    f\"Loaded sheet description: {sheets_desc[sheet_name]}\")\n",
    "current_df = pd.read_excel(year_file, year_file.sheet_names[sheet_index])\n",
    "current_df = empty_string_remover(current_df)\n",
    "\n",
    "col = \"income_s_y\"\n",
    "temp_df = current_df.copy()\n",
    "grouped = (temp_df.groupby(\"Address\").agg({col: \"sum\"})\n",
    "                        .reset_index())\n",
    "\n",
    "df = pd.merge(left=year_df[[\"Address\", \"transportation_cost\"]], right=grouped, how=\"left\", on=\"Address\")\n",
    "df.fillna({col:0}, inplace=True)\n",
    "\n",
    "print(make_mi_scores(df.drop([\"Address\", \"transportation_cost\"], axis=1), year_df.transportation_cost))\n",
    "# no good features here, all columns were investigated"
   ]
  },
  {
   "cell_type": "code",
   "execution_count": 8,
   "metadata": {},
   "outputs": [
    {
     "name": "stdout",
     "output_type": "stream",
     "text": [
      "Sheet name from sheets_desc dict: P4S03. Sheet name from file: U99P4S03\n",
      " Loaded sheet description: قسمت چهارم: بخش ۳ درآمدهای متفرقه خانوار در ۱۲ ماه گذشته\n",
      "income_aid    0.033119\n",
      "Name: MI Scores, dtype: float64\n"
     ]
    }
   ],
   "source": [
    "sheet_index=19\n",
    "sheet_name = list(sheets_desc.keys())[sheet_index]\n",
    "print(f\"Sheet name from sheets_desc dict: {sheet_name}.\",\n",
    "    f\"Sheet name from file: {year_file.sheet_names[sheet_index]}\\n\",\n",
    "    f\"Loaded sheet description: {sheets_desc[sheet_name]}\")\n",
    "current_df = pd.read_excel(year_file, year_file.sheet_names[sheet_index])\n",
    "current_df = empty_string_remover(current_df)\n",
    "col = \"income_aid\"\n",
    "temp_df = current_df.copy()\n",
    "temp_df[col] = pd.to_numeric(temp_df[col], errors=\"coerce\").fillna(0)\n",
    "grouped = (temp_df.groupby(\"Address\").agg({col: \"sum\"})\n",
    "                        .reset_index())\n",
    "\n",
    "df = pd.merge(left=year_df[[\"Address\", \"transportation_cost\"]], right=grouped, how=\"left\", on=\"Address\")\n",
    "df.fillna({col:0}, inplace=True)\n",
    "\n",
    "print(make_mi_scores(df.drop([\"Address\", \"transportation_cost\"], axis=1), year_df.transportation_cost))\n",
    "# no good features here, all columns were investigated"
   ]
  },
  {
   "cell_type": "code",
   "execution_count": 69,
   "metadata": {},
   "outputs": [
    {
     "name": "stdout",
     "output_type": "stream",
     "text": [
      "Sheet name from sheets_desc dict: P4S04. Sheet name from file: U99P4S04\n",
      " Loaded sheet description: قسمت چهارم: ستون ۹ بخش ۳ شامل وام و یارانه\n",
      "subsidy    0.052957\n",
      "Name: MI Scores, dtype: float64\n"
     ]
    }
   ],
   "source": [
    "\n",
    "sheet_index=20\n",
    "sheet_name = list(sheets_desc.keys())[sheet_index]\n",
    "print(f\"Sheet name from sheets_desc dict: {sheet_name}.\",\n",
    "    f\"Sheet name from file: {year_file.sheet_names[sheet_index]}\\n\",\n",
    "    f\"Loaded sheet description: {sheets_desc[sheet_name]}\")\n",
    "current_df = pd.read_excel(year_file, year_file.sheet_names[sheet_index])\n",
    "current_df = empty_string_remover(current_df)\n",
    "col = \"subsidy\"\n",
    "temp_df = current_df.copy()\n",
    "temp_df[col] = pd.to_numeric(temp_df[col], errors=\"coerce\").fillna(0)\n",
    "grouped = (temp_df.groupby(\"Address\").agg({col: \"sum\"})\n",
    "                        .reset_index())\n",
    "\n",
    "df = pd.merge(left=year_df[[\"Address\", \"transportation_cost\"]], right=grouped, how=\"left\", on=\"Address\")\n",
    "df.fillna({col:0}, inplace=True)\n",
    "\n",
    "print(make_mi_scores(df.drop([\"Address\", \"transportation_cost\"], axis=1), year_df.transportation_cost))\n",
    "# no good features here"
   ]
  },
  {
   "cell_type": "code",
   "execution_count": null,
   "metadata": {},
   "outputs": [],
   "source": []
  }
 ],
 "metadata": {
  "kernelspec": {
   "display_name": "Python 3",
   "language": "python",
   "name": "python3"
  },
  "language_info": {
   "codemirror_mode": {
    "name": "ipython",
    "version": 3
   },
   "file_extension": ".py",
   "mimetype": "text/x-python",
   "name": "python",
   "nbconvert_exporter": "python",
   "pygments_lexer": "ipython3",
   "version": "3.1.-1"
  }
 },
 "nbformat": 4,
 "nbformat_minor": 2
}
