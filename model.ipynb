{
 "cells": [
  {
   "cell_type": "markdown",
   "metadata": {},
   "source": [
    "# <h1 style=\"text-align: center; color:magenta\"> Prediction Section </h1>"
   ]
  },
  {
   "cell_type": "code",
   "execution_count": 1,
   "metadata": {},
   "outputs": [],
   "source": [
    "import pandas as pd\n",
    "import numpy as np\n",
    "import matplotlib.pyplot as plt\n",
    "from sklearn.model_selection import train_test_split\n",
    "from sklearn.preprocessing import PolynomialFeatures\n",
    "from sklearn.linear_model import LinearRegression\n",
    "from sklearn.metrics import r2_score\n",
    "\n",
    "from sklearn.ensemble import RandomForestRegressor"
   ]
  },
  {
   "cell_type": "markdown",
   "metadata": {},
   "source": [
    "## <h2 style=\"text-align: left; color:cyan\"> Loading Data </h2>"
   ]
  },
  {
   "cell_type": "markdown",
   "metadata": {},
   "source": [
    "Load data from the prepared file"
   ]
  },
  {
   "cell_type": "code",
   "execution_count": 2,
   "metadata": {},
   "outputs": [],
   "source": [
    "df = pd.read_pickle(\"prediction_features_df.pkl\")"
   ]
  },
  {
   "cell_type": "markdown",
   "metadata": {},
   "source": [
    "## <h2 style=\"text-align: left; color:cyan\"> Preprocessing & Feature Engineering </h2>\n",
    "Some features such as member count, transport insurance and vehicle expenses and mean_age of the family, living in urban/rural neighborhood were created in the previous secion, i.e. the sheet loading section."
   ]
  },
  {
   "cell_type": "code",
   "execution_count": 3,
   "metadata": {},
   "outputs": [],
   "source": [
    "# Storing the info of the original dataframe\n",
    "import io\n",
    "buffer = io.StringIO()\n",
    "df.info(buf=buffer)\n",
    "info_lines = buffer.getvalue().splitlines()\n",
    "original_info_df = (pd.DataFrame([x.split() for x in info_lines[5:-2]], columns=info_lines[3].split())\n",
    "       .drop([\"#\",'Count'],axis=1)\n",
    "       .rename(columns={'Non-Null':'Non-Null Count'})\n",
    "       .astype({\"Non-Null Count\":int}))\n",
    "original_info_df.sort_values(by=\"Non-Null Count\", ascending=False)\n",
    "del buffer, info_lines"
   ]
  },
  {
   "cell_type": "markdown",
   "metadata": {},
   "source": [
    "### <h3 style=\"text-align: left; color:cyan\"> Filling missing data </h3>"
   ]
  },
  {
   "cell_type": "markdown",
   "metadata": {},
   "source": [
    "We fill the NaN values of some features with few NaN count with zero, only the ones that make sense to do so, for features with many NaN values, we store their column names and decide later to be included in our model features or not."
   ]
  },
  {
   "cell_type": "code",
   "execution_count": 4,
   "metadata": {},
   "outputs": [],
   "source": [
    "df.subsidy.fillna(0, inplace=True)\n",
    "df.transportation_cost.fillna(0, inplace=True)\n",
    "df.misc_income.fillna(0, inplace=True)\n",
    "df.active_member_cnt.fillna(0, inplace=True)\n",
    "\n",
    "# Tenure column has only 4 NaN values which we change to \"other\" value\n",
    "df.tenure.fillna(\"other\", inplace=True)\n",
    "\n",
    "# columns with more than half of the data being null\n",
    "df.netincome_w_y.fillna(0, inplace=True)\n",
    "df.vehicle_expenses.fillna(0, inplace=True)\n",
    "df.income_s_y.fillna(0, inplace=True)\n",
    "df.transport_insurance_expenses.fillna(0, inplace=True)\n",
    "df.highly_educated_member_cnt.fillna(0, inplace=True)\n",
    "df.dining_expenses.fillna(0, inplace=True)"
   ]
  },
  {
   "cell_type": "code",
   "execution_count": 5,
   "metadata": {},
   "outputs": [],
   "source": [
    "df[\"total_income\"] = df.netincome_w_y + df.income_s_y + df.subsidy + df.misc_income\n",
    "df = df.drop(columns=[\"netincome_w_y\", \"income_s_y\", \"subsidy\", \"misc_income\"])"
   ]
  },
  {
   "cell_type": "markdown",
   "metadata": {},
   "source": [
    "Since khanevartype has only two values (1,2) we convert it (0,1) by just subtracting 1 from it.\n",
    "Then also convert it to Boolean, it reduces data volume in memory."
   ]
  },
  {
   "cell_type": "code",
   "execution_count": 6,
   "metadata": {},
   "outputs": [],
   "source": [
    "df['khanevartype'] = (df['khanevartype'] - 1)"
   ]
  },
  {
   "cell_type": "markdown",
   "metadata": {},
   "source": [
    "Converting boolean columns to int"
   ]
  },
  {
   "cell_type": "code",
   "execution_count": 7,
   "metadata": {},
   "outputs": [],
   "source": [
    "for col in df.columns:\n",
    "    if df[col].dtype == bool:\n",
    "        df[col] = df[col].astype(int)\n"
   ]
  },
  {
   "cell_type": "code",
   "execution_count": 8,
   "metadata": {},
   "outputs": [],
   "source": [
    "duplicate_addresses = df.loc[df.Address.duplicated(), :].Address.unique().shape[0]"
   ]
  },
  {
   "cell_type": "markdown",
   "metadata": {},
   "source": [
    "There are 42054 families with info being present in different years. there is no reason to group the result for those families and we treat them as separate data since we are going to drop the Address columns later on."
   ]
  },
  {
   "cell_type": "markdown",
   "metadata": {},
   "source": [
    "### <h3 style=\"text-align: left; color:cyan\"> Splitting train, validation & test data </h4>"
   ]
  },
  {
   "cell_type": "code",
   "execution_count": 9,
   "metadata": {},
   "outputs": [],
   "source": [
    "X_test = df.loc[(df.Fasl==4) & (df.Year==1401), :]\n",
    "y_test = X_test.pop(\"transportation_cost\")\n",
    "\n",
    "X = df.loc[~df.index.isin(X_test.index), :]\n",
    "y = X.pop(\"transportation_cost\")\n",
    "\n",
    "X_train, X_val, y_train, y_val = train_test_split(X,y, random_state = 42, test_size = 0.25)\n",
    "\n",
    "del X, y"
   ]
  },
  {
   "cell_type": "markdown",
   "metadata": {},
   "source": [
    "### <h3 style=\"text-align: left; color:cyan\"> Feature Scaling </h4>"
   ]
  },
  {
   "cell_type": "code",
   "execution_count": 10,
   "metadata": {},
   "outputs": [],
   "source": [
    "from sklearn.preprocessing import MinMaxScaler\n",
    "from sklearn.feature_selection import mutual_info_regression"
   ]
  },
  {
   "cell_type": "code",
   "execution_count": 35,
   "metadata": {},
   "outputs": [],
   "source": [
    "categorical_columns = [\"province\", \"tenure\", \"town\"]\n",
    "string_columns = [\"province\", \"tenure\"]"
   ]
  },
  {
   "cell_type": "code",
   "execution_count": 37,
   "metadata": {},
   "outputs": [],
   "source": [
    "excluded_cols = categorical_columns + [\"Address\"]"
   ]
  },
  {
   "cell_type": "code",
   "execution_count": 38,
   "metadata": {},
   "outputs": [
    {
     "data": {
      "text/plain": [
       "['province', 'tenure', 'town', 'Address']"
      ]
     },
     "execution_count": 38,
     "metadata": {},
     "output_type": "execute_result"
    }
   ],
   "source": [
    "excluded_cols"
   ]
  },
  {
   "cell_type": "code",
   "execution_count": 22,
   "metadata": {},
   "outputs": [],
   "source": [
    "min_max_scaler = MinMaxScaler()\n",
    "\n",
    "X_train_minmax = min_max_scaler.fit(X_train.drop(categorical_columns, axis=1))\n",
    "\n",
    "X_train_numeric = min_max_scaler.transform(X_train.drop(categorical_columns, axis=1))\n",
    "X_val_numeric = min_max_scaler.transform(X_val.drop(categorical_columns, axis=1))\n",
    "X_test_numeric = min_max_scaler.transform(X_test.drop(categorical_columns, axis=1))"
   ]
  },
  {
   "cell_type": "code",
   "execution_count": 13,
   "metadata": {},
   "outputs": [],
   "source": []
  },
  {
   "cell_type": "markdown",
   "metadata": {},
   "source": [
    "## <h2 style=\"text-align: left; color:cyan\"> Regression Models </h2>"
   ]
  },
  {
   "cell_type": "markdown",
   "metadata": {},
   "source": [
    "### <h3 style=\"text-align: left; color:cyan\"> Random Forest Regression Model </h3>"
   ]
  },
  {
   "cell_type": "code",
   "execution_count": 14,
   "metadata": {},
   "outputs": [
    {
     "name": "stdout",
     "output_type": "stream",
     "text": [
      "Train data accuracy: 0.8857688771539975\n",
      "Validation data accuracy: 0.12278008179286692\n"
     ]
    }
   ],
   "source": [
    "rf_reg = RandomForestRegressor(n_estimators=100, n_jobs=-1, random_state=42)\n",
    "rf_reg.fit(X_train_numeric, y_train)\n",
    "y_pred = rf_reg.predict(X_val_numeric)\n",
    "print(\"Train data accuracy:\",r2_score(y_true = y_train, y_pred=rf_reg.predict(X_train_numeric)))\n",
    "print(\"Validation data accuracy:\",r2_score(y_true = y_val, y_pred=y_pred))"
   ]
  },
  {
   "cell_type": "markdown",
   "metadata": {},
   "source": [
    "The above model is clearly a bad model"
   ]
  },
  {
   "cell_type": "markdown",
   "metadata": {},
   "source": [
    "### <h3 style=\"text-align: left; color:cyan\"> Multiple Linear Regression Model </h3>"
   ]
  },
  {
   "cell_type": "code",
   "execution_count": 30,
   "metadata": {},
   "outputs": [
    {
     "name": "stdout",
     "output_type": "stream",
     "text": [
      "train R2=  0.21963910618681326 \n",
      "validation R2=  0.20574911747804947 \n",
      "R2 diff=  0.01388998870876379\n"
     ]
    }
   ],
   "source": [
    "poly_transformer = PolynomialFeatures(2, include_bias=True, interaction_only=False)\n",
    "train_poly_features = poly_transformer.fit_transform(X_train_numeric)\n",
    "model = LinearRegression()\n",
    "model.fit(train_poly_features, y_train)\n",
    "\n",
    "train_y_pred = model.predict(train_poly_features)\n",
    "validate_y_pred = model.predict(poly_transformer.fit_transform(X_val_numeric))\n",
    "train_r2 = r2_score(y_train, train_y_pred)\n",
    "validation_r2 = r2_score(y_val, validate_y_pred)\n",
    "print(\"train R2= \",train_r2, \"\\nvalidation R2= \",validation_r2, \"\\nR2 diff= \", train_r2 - validation_r2)"
   ]
  },
  {
   "cell_type": "code",
   "execution_count": 31,
   "metadata": {},
   "outputs": [
    {
     "data": {
      "text/html": [
       "<div>\n",
       "<style scoped>\n",
       "    .dataframe tbody tr th:only-of-type {\n",
       "        vertical-align: middle;\n",
       "    }\n",
       "\n",
       "    .dataframe tbody tr th {\n",
       "        vertical-align: top;\n",
       "    }\n",
       "\n",
       "    .dataframe thead th {\n",
       "        text-align: right;\n",
       "    }\n",
       "</style>\n",
       "<table border=\"1\" class=\"dataframe\">\n",
       "  <thead>\n",
       "    <tr style=\"text-align: right;\">\n",
       "      <th></th>\n",
       "      <th>Address</th>\n",
       "      <th>Urban</th>\n",
       "      <th>Year</th>\n",
       "      <th>Fasl</th>\n",
       "      <th>khanevartype</th>\n",
       "      <th>member_cnt</th>\n",
       "      <th>active_member_cnt</th>\n",
       "      <th>mean_age</th>\n",
       "      <th>highly_educated_member_cnt</th>\n",
       "      <th>vehicle</th>\n",
       "      <th>...</th>\n",
       "      <th>town_30</th>\n",
       "      <th>town_31</th>\n",
       "      <th>town_32</th>\n",
       "      <th>town_33</th>\n",
       "      <th>town_34</th>\n",
       "      <th>town_35</th>\n",
       "      <th>town_36</th>\n",
       "      <th>town_37</th>\n",
       "      <th>town_38</th>\n",
       "      <th>town_39</th>\n",
       "    </tr>\n",
       "  </thead>\n",
       "  <tbody>\n",
       "    <tr>\n",
       "      <th>0</th>\n",
       "      <td>20001383919</td>\n",
       "      <td>0</td>\n",
       "      <td>1400</td>\n",
       "      <td>2</td>\n",
       "      <td>0</td>\n",
       "      <td>5</td>\n",
       "      <td>2.0</td>\n",
       "      <td>20.80</td>\n",
       "      <td>0.0</td>\n",
       "      <td>1</td>\n",
       "      <td>...</td>\n",
       "      <td>0</td>\n",
       "      <td>0</td>\n",
       "      <td>0</td>\n",
       "      <td>0</td>\n",
       "      <td>0</td>\n",
       "      <td>0</td>\n",
       "      <td>0</td>\n",
       "      <td>0</td>\n",
       "      <td>0</td>\n",
       "      <td>0</td>\n",
       "    </tr>\n",
       "    <tr>\n",
       "      <th>1</th>\n",
       "      <td>20001383923</td>\n",
       "      <td>0</td>\n",
       "      <td>1400</td>\n",
       "      <td>2</td>\n",
       "      <td>0</td>\n",
       "      <td>4</td>\n",
       "      <td>3.0</td>\n",
       "      <td>32.50</td>\n",
       "      <td>0.0</td>\n",
       "      <td>0</td>\n",
       "      <td>...</td>\n",
       "      <td>0</td>\n",
       "      <td>0</td>\n",
       "      <td>0</td>\n",
       "      <td>0</td>\n",
       "      <td>0</td>\n",
       "      <td>0</td>\n",
       "      <td>0</td>\n",
       "      <td>0</td>\n",
       "      <td>0</td>\n",
       "      <td>0</td>\n",
       "    </tr>\n",
       "    <tr>\n",
       "      <th>2</th>\n",
       "      <td>20001383925</td>\n",
       "      <td>0</td>\n",
       "      <td>1400</td>\n",
       "      <td>2</td>\n",
       "      <td>0</td>\n",
       "      <td>4</td>\n",
       "      <td>1.0</td>\n",
       "      <td>46.50</td>\n",
       "      <td>0.0</td>\n",
       "      <td>0</td>\n",
       "      <td>...</td>\n",
       "      <td>0</td>\n",
       "      <td>0</td>\n",
       "      <td>0</td>\n",
       "      <td>0</td>\n",
       "      <td>0</td>\n",
       "      <td>0</td>\n",
       "      <td>0</td>\n",
       "      <td>0</td>\n",
       "      <td>0</td>\n",
       "      <td>0</td>\n",
       "    </tr>\n",
       "    <tr>\n",
       "      <th>3</th>\n",
       "      <td>20001383929</td>\n",
       "      <td>0</td>\n",
       "      <td>1400</td>\n",
       "      <td>2</td>\n",
       "      <td>0</td>\n",
       "      <td>2</td>\n",
       "      <td>1.0</td>\n",
       "      <td>28.00</td>\n",
       "      <td>0.0</td>\n",
       "      <td>0</td>\n",
       "      <td>...</td>\n",
       "      <td>0</td>\n",
       "      <td>0</td>\n",
       "      <td>0</td>\n",
       "      <td>0</td>\n",
       "      <td>0</td>\n",
       "      <td>0</td>\n",
       "      <td>0</td>\n",
       "      <td>0</td>\n",
       "      <td>0</td>\n",
       "      <td>0</td>\n",
       "    </tr>\n",
       "    <tr>\n",
       "      <th>4</th>\n",
       "      <td>20001383932</td>\n",
       "      <td>0</td>\n",
       "      <td>1400</td>\n",
       "      <td>2</td>\n",
       "      <td>0</td>\n",
       "      <td>2</td>\n",
       "      <td>0.0</td>\n",
       "      <td>61.50</td>\n",
       "      <td>0.0</td>\n",
       "      <td>0</td>\n",
       "      <td>...</td>\n",
       "      <td>0</td>\n",
       "      <td>0</td>\n",
       "      <td>0</td>\n",
       "      <td>0</td>\n",
       "      <td>0</td>\n",
       "      <td>0</td>\n",
       "      <td>0</td>\n",
       "      <td>0</td>\n",
       "      <td>0</td>\n",
       "      <td>0</td>\n",
       "    </tr>\n",
       "    <tr>\n",
       "      <th>...</th>\n",
       "      <td>...</td>\n",
       "      <td>...</td>\n",
       "      <td>...</td>\n",
       "      <td>...</td>\n",
       "      <td>...</td>\n",
       "      <td>...</td>\n",
       "      <td>...</td>\n",
       "      <td>...</td>\n",
       "      <td>...</td>\n",
       "      <td>...</td>\n",
       "      <td>...</td>\n",
       "      <td>...</td>\n",
       "      <td>...</td>\n",
       "      <td>...</td>\n",
       "      <td>...</td>\n",
       "      <td>...</td>\n",
       "      <td>...</td>\n",
       "      <td>...</td>\n",
       "      <td>...</td>\n",
       "      <td>...</td>\n",
       "      <td>...</td>\n",
       "    </tr>\n",
       "    <tr>\n",
       "      <th>151819</th>\n",
       "      <td>13006383816</td>\n",
       "      <td>1</td>\n",
       "      <td>1399</td>\n",
       "      <td>2</td>\n",
       "      <td>0</td>\n",
       "      <td>2</td>\n",
       "      <td>2.0</td>\n",
       "      <td>27.50</td>\n",
       "      <td>0.0</td>\n",
       "      <td>0</td>\n",
       "      <td>...</td>\n",
       "      <td>0</td>\n",
       "      <td>0</td>\n",
       "      <td>0</td>\n",
       "      <td>0</td>\n",
       "      <td>0</td>\n",
       "      <td>0</td>\n",
       "      <td>0</td>\n",
       "      <td>0</td>\n",
       "      <td>0</td>\n",
       "      <td>0</td>\n",
       "    </tr>\n",
       "    <tr>\n",
       "      <th>151820</th>\n",
       "      <td>13006383821</td>\n",
       "      <td>1</td>\n",
       "      <td>1399</td>\n",
       "      <td>2</td>\n",
       "      <td>0</td>\n",
       "      <td>5</td>\n",
       "      <td>3.0</td>\n",
       "      <td>25.20</td>\n",
       "      <td>1.0</td>\n",
       "      <td>0</td>\n",
       "      <td>...</td>\n",
       "      <td>0</td>\n",
       "      <td>0</td>\n",
       "      <td>0</td>\n",
       "      <td>0</td>\n",
       "      <td>0</td>\n",
       "      <td>0</td>\n",
       "      <td>0</td>\n",
       "      <td>0</td>\n",
       "      <td>0</td>\n",
       "      <td>0</td>\n",
       "    </tr>\n",
       "    <tr>\n",
       "      <th>151821</th>\n",
       "      <td>13006383824</td>\n",
       "      <td>1</td>\n",
       "      <td>1399</td>\n",
       "      <td>2</td>\n",
       "      <td>0</td>\n",
       "      <td>4</td>\n",
       "      <td>2.0</td>\n",
       "      <td>26.75</td>\n",
       "      <td>0.0</td>\n",
       "      <td>1</td>\n",
       "      <td>...</td>\n",
       "      <td>0</td>\n",
       "      <td>0</td>\n",
       "      <td>0</td>\n",
       "      <td>0</td>\n",
       "      <td>0</td>\n",
       "      <td>0</td>\n",
       "      <td>0</td>\n",
       "      <td>0</td>\n",
       "      <td>0</td>\n",
       "      <td>0</td>\n",
       "    </tr>\n",
       "    <tr>\n",
       "      <th>151822</th>\n",
       "      <td>13006383826</td>\n",
       "      <td>1</td>\n",
       "      <td>1399</td>\n",
       "      <td>2</td>\n",
       "      <td>0</td>\n",
       "      <td>5</td>\n",
       "      <td>3.0</td>\n",
       "      <td>25.00</td>\n",
       "      <td>0.0</td>\n",
       "      <td>1</td>\n",
       "      <td>...</td>\n",
       "      <td>0</td>\n",
       "      <td>0</td>\n",
       "      <td>0</td>\n",
       "      <td>0</td>\n",
       "      <td>0</td>\n",
       "      <td>0</td>\n",
       "      <td>0</td>\n",
       "      <td>0</td>\n",
       "      <td>0</td>\n",
       "      <td>0</td>\n",
       "    </tr>\n",
       "    <tr>\n",
       "      <th>151823</th>\n",
       "      <td>13006383829</td>\n",
       "      <td>1</td>\n",
       "      <td>1399</td>\n",
       "      <td>2</td>\n",
       "      <td>0</td>\n",
       "      <td>2</td>\n",
       "      <td>0.0</td>\n",
       "      <td>61.50</td>\n",
       "      <td>0.0</td>\n",
       "      <td>0</td>\n",
       "      <td>...</td>\n",
       "      <td>0</td>\n",
       "      <td>0</td>\n",
       "      <td>0</td>\n",
       "      <td>0</td>\n",
       "      <td>0</td>\n",
       "      <td>0</td>\n",
       "      <td>0</td>\n",
       "      <td>0</td>\n",
       "      <td>0</td>\n",
       "      <td>0</td>\n",
       "    </tr>\n",
       "  </tbody>\n",
       "</table>\n",
       "<p>151824 rows × 92 columns</p>\n",
       "</div>"
      ],
      "text/plain": [
       "            Address  Urban  Year  Fasl  khanevartype  member_cnt  \\\n",
       "0       20001383919      0  1400     2             0           5   \n",
       "1       20001383923      0  1400     2             0           4   \n",
       "2       20001383925      0  1400     2             0           4   \n",
       "3       20001383929      0  1400     2             0           2   \n",
       "4       20001383932      0  1400     2             0           2   \n",
       "...             ...    ...   ...   ...           ...         ...   \n",
       "151819  13006383816      1  1399     2             0           2   \n",
       "151820  13006383821      1  1399     2             0           5   \n",
       "151821  13006383824      1  1399     2             0           4   \n",
       "151822  13006383826      1  1399     2             0           5   \n",
       "151823  13006383829      1  1399     2             0           2   \n",
       "\n",
       "        active_member_cnt  mean_age  highly_educated_member_cnt  vehicle  ...  \\\n",
       "0                     2.0     20.80                         0.0        1  ...   \n",
       "1                     3.0     32.50                         0.0        0  ...   \n",
       "2                     1.0     46.50                         0.0        0  ...   \n",
       "3                     1.0     28.00                         0.0        0  ...   \n",
       "4                     0.0     61.50                         0.0        0  ...   \n",
       "...                   ...       ...                         ...      ...  ...   \n",
       "151819                2.0     27.50                         0.0        0  ...   \n",
       "151820                3.0     25.20                         1.0        0  ...   \n",
       "151821                2.0     26.75                         0.0        1  ...   \n",
       "151822                3.0     25.00                         0.0        1  ...   \n",
       "151823                0.0     61.50                         0.0        0  ...   \n",
       "\n",
       "        town_30  town_31  town_32  town_33  town_34  town_35  town_36  \\\n",
       "0             0        0        0        0        0        0        0   \n",
       "1             0        0        0        0        0        0        0   \n",
       "2             0        0        0        0        0        0        0   \n",
       "3             0        0        0        0        0        0        0   \n",
       "4             0        0        0        0        0        0        0   \n",
       "...         ...      ...      ...      ...      ...      ...      ...   \n",
       "151819        0        0        0        0        0        0        0   \n",
       "151820        0        0        0        0        0        0        0   \n",
       "151821        0        0        0        0        0        0        0   \n",
       "151822        0        0        0        0        0        0        0   \n",
       "151823        0        0        0        0        0        0        0   \n",
       "\n",
       "        town_37  town_38  town_39  \n",
       "0             0        0        0  \n",
       "1             0        0        0  \n",
       "2             0        0        0  \n",
       "3             0        0        0  \n",
       "4             0        0        0  \n",
       "...         ...      ...      ...  \n",
       "151819        0        0        0  \n",
       "151820        0        0        0  \n",
       "151821        0        0        0  \n",
       "151822        0        0        0  \n",
       "151823        0        0        0  \n",
       "\n",
       "[151824 rows x 92 columns]"
      ]
     },
     "execution_count": 31,
     "metadata": {},
     "output_type": "execute_result"
    }
   ],
   "source": [
    "pd.get_dummies(df, columns=categorical_columns, drop_first=True)"
   ]
  },
  {
   "cell_type": "code",
   "execution_count": null,
   "metadata": {},
   "outputs": [],
   "source": []
  }
 ],
 "metadata": {
  "kernelspec": {
   "display_name": "Python 3",
   "language": "python",
   "name": "python3"
  },
  "language_info": {
   "codemirror_mode": {
    "name": "ipython",
    "version": 3
   },
   "file_extension": ".py",
   "mimetype": "text/x-python",
   "name": "python",
   "nbconvert_exporter": "python",
   "pygments_lexer": "ipython3",
   "version": "3.10.11"
  }
 },
 "nbformat": 4,
 "nbformat_minor": 2
}
