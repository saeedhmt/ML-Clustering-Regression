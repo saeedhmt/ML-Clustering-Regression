{
 "cells": [
  {
   "cell_type": "markdown",
   "metadata": {},
   "source": [
    "# <h1 style=\"text-align: center; color:magenta\"> Prediction Section </h1>"
   ]
  },
  {
   "cell_type": "code",
   "execution_count": 64,
   "metadata": {},
   "outputs": [],
   "source": [
    "import pandas as pd\n",
    "import numpy as np\n",
    "import matplotlib.pyplot as plt\n",
    "from sklearn.model_selection import train_test_split"
   ]
  },
  {
   "cell_type": "markdown",
   "metadata": {},
   "source": [
    "## <h2 style=\"text-align: left; color:cyan\"> Loading Data </h2>"
   ]
  },
  {
   "cell_type": "markdown",
   "metadata": {},
   "source": [
    "Load data from the prepared file"
   ]
  },
  {
   "cell_type": "code",
   "execution_count": 235,
   "metadata": {},
   "outputs": [],
   "source": [
    "df = pd.read_pickle(\"prediction_features_df.pkl\")"
   ]
  },
  {
   "cell_type": "markdown",
   "metadata": {},
   "source": [
    "## <h2 style=\"text-align: left; color:cyan\"> Preprocessing & Feature Engineering </h2>\n",
    "Some features such as member count, transport insurance and vehicle expenses and mean_age of the family, living in urban/rural neighborhood were created in the previous secion, i.e. the sheet loading section."
   ]
  },
  {
   "cell_type": "code",
   "execution_count": 236,
   "metadata": {},
   "outputs": [],
   "source": [
    "# Storing the info of the original dataframe\n",
    "import io\n",
    "buffer = io.StringIO()\n",
    "df.info(buf=buffer)\n",
    "info_lines = buffer.getvalue().splitlines()\n",
    "original_info_df = (pd.DataFrame([x.split() for x in info_lines[5:-2]], columns=info_lines[3].split())\n",
    "       .drop([\"#\",'Count'],axis=1)\n",
    "       .rename(columns={'Non-Null':'Non-Null Count'})\n",
    "       .astype({\"Non-Null Count\":int}))\n",
    "original_info_df.sort_values(by=\"Non-Null Count\", ascending=False)\n",
    "del buffer, info_lines"
   ]
  },
  {
   "cell_type": "code",
   "execution_count": 237,
   "metadata": {},
   "outputs": [
    {
     "data": {
      "text/html": [
       "<div>\n",
       "<style scoped>\n",
       "    .dataframe tbody tr th:only-of-type {\n",
       "        vertical-align: middle;\n",
       "    }\n",
       "\n",
       "    .dataframe tbody tr th {\n",
       "        vertical-align: top;\n",
       "    }\n",
       "\n",
       "    .dataframe thead th {\n",
       "        text-align: right;\n",
       "    }\n",
       "</style>\n",
       "<table border=\"1\" class=\"dataframe\">\n",
       "  <thead>\n",
       "    <tr style=\"text-align: right;\">\n",
       "      <th></th>\n",
       "      <th>Column</th>\n",
       "      <th>Non-Null Count</th>\n",
       "      <th>Dtype</th>\n",
       "    </tr>\n",
       "  </thead>\n",
       "  <tbody>\n",
       "    <tr>\n",
       "      <th>0</th>\n",
       "      <td>Address</td>\n",
       "      <td>151824</td>\n",
       "      <td>int64</td>\n",
       "    </tr>\n",
       "    <tr>\n",
       "      <th>1</th>\n",
       "      <td>Urban</td>\n",
       "      <td>151824</td>\n",
       "      <td>bool</td>\n",
       "    </tr>\n",
       "    <tr>\n",
       "      <th>2</th>\n",
       "      <td>Year</td>\n",
       "      <td>151824</td>\n",
       "      <td>int64</td>\n",
       "    </tr>\n",
       "    <tr>\n",
       "      <th>3</th>\n",
       "      <td>Fasl</td>\n",
       "      <td>151824</td>\n",
       "      <td>int64</td>\n",
       "    </tr>\n",
       "    <tr>\n",
       "      <th>4</th>\n",
       "      <td>khanevartype</td>\n",
       "      <td>151824</td>\n",
       "      <td>int64</td>\n",
       "    </tr>\n",
       "    <tr>\n",
       "      <th>5</th>\n",
       "      <td>province</td>\n",
       "      <td>151824</td>\n",
       "      <td>object</td>\n",
       "    </tr>\n",
       "    <tr>\n",
       "      <th>6</th>\n",
       "      <td>town</td>\n",
       "      <td>151824</td>\n",
       "      <td>int64</td>\n",
       "    </tr>\n",
       "    <tr>\n",
       "      <th>7</th>\n",
       "      <td>member_cnt</td>\n",
       "      <td>151824</td>\n",
       "      <td>int64</td>\n",
       "    </tr>\n",
       "    <tr>\n",
       "      <th>8</th>\n",
       "      <td>active_member_cnt</td>\n",
       "      <td>118166</td>\n",
       "      <td>float64</td>\n",
       "    </tr>\n",
       "    <tr>\n",
       "      <th>9</th>\n",
       "      <td>mean_age</td>\n",
       "      <td>151824</td>\n",
       "      <td>float64</td>\n",
       "    </tr>\n",
       "    <tr>\n",
       "      <th>10</th>\n",
       "      <td>highly_educated_member_cnt</td>\n",
       "      <td>43075</td>\n",
       "      <td>float64</td>\n",
       "    </tr>\n",
       "    <tr>\n",
       "      <th>11</th>\n",
       "      <td>tenure</td>\n",
       "      <td>151820</td>\n",
       "      <td>object</td>\n",
       "    </tr>\n",
       "    <tr>\n",
       "      <th>12</th>\n",
       "      <td>vehicle</td>\n",
       "      <td>151824</td>\n",
       "      <td>bool</td>\n",
       "    </tr>\n",
       "    <tr>\n",
       "      <th>13</th>\n",
       "      <td>motorcycle</td>\n",
       "      <td>151824</td>\n",
       "      <td>bool</td>\n",
       "    </tr>\n",
       "    <tr>\n",
       "      <th>14</th>\n",
       "      <td>bicycle</td>\n",
       "      <td>151824</td>\n",
       "      <td>bool</td>\n",
       "    </tr>\n",
       "    <tr>\n",
       "      <th>15</th>\n",
       "      <td>transportation_cost</td>\n",
       "      <td>137600</td>\n",
       "      <td>float64</td>\n",
       "    </tr>\n",
       "    <tr>\n",
       "      <th>16</th>\n",
       "      <td>communication_expenses</td>\n",
       "      <td>147365</td>\n",
       "      <td>float64</td>\n",
       "    </tr>\n",
       "    <tr>\n",
       "      <th>17</th>\n",
       "      <td>dining_expenses</td>\n",
       "      <td>37532</td>\n",
       "      <td>float64</td>\n",
       "    </tr>\n",
       "    <tr>\n",
       "      <th>18</th>\n",
       "      <td>transport_insurance_expenses</td>\n",
       "      <td>52283</td>\n",
       "      <td>float64</td>\n",
       "    </tr>\n",
       "    <tr>\n",
       "      <th>19</th>\n",
       "      <td>vehicle_expenses</td>\n",
       "      <td>65520</td>\n",
       "      <td>float64</td>\n",
       "    </tr>\n",
       "    <tr>\n",
       "      <th>20</th>\n",
       "      <td>netincome_w_y</td>\n",
       "      <td>75239</td>\n",
       "      <td>float64</td>\n",
       "    </tr>\n",
       "    <tr>\n",
       "      <th>21</th>\n",
       "      <td>income_s_y</td>\n",
       "      <td>52495</td>\n",
       "      <td>float64</td>\n",
       "    </tr>\n",
       "    <tr>\n",
       "      <th>22</th>\n",
       "      <td>misc_income</td>\n",
       "      <td>134079</td>\n",
       "      <td>float64</td>\n",
       "    </tr>\n",
       "    <tr>\n",
       "      <th>23</th>\n",
       "      <td>subsidy</td>\n",
       "      <td>142689</td>\n",
       "      <td>float64</td>\n",
       "    </tr>\n",
       "  </tbody>\n",
       "</table>\n",
       "</div>"
      ],
      "text/plain": [
       "                          Column  Non-Null Count    Dtype\n",
       "0                        Address          151824    int64\n",
       "1                          Urban          151824     bool\n",
       "2                           Year          151824    int64\n",
       "3                           Fasl          151824    int64\n",
       "4                   khanevartype          151824    int64\n",
       "5                       province          151824   object\n",
       "6                           town          151824    int64\n",
       "7                     member_cnt          151824    int64\n",
       "8              active_member_cnt          118166  float64\n",
       "9                       mean_age          151824  float64\n",
       "10    highly_educated_member_cnt           43075  float64\n",
       "11                        tenure          151820   object\n",
       "12                       vehicle          151824     bool\n",
       "13                    motorcycle          151824     bool\n",
       "14                       bicycle          151824     bool\n",
       "15           transportation_cost          137600  float64\n",
       "16        communication_expenses          147365  float64\n",
       "17               dining_expenses           37532  float64\n",
       "18  transport_insurance_expenses           52283  float64\n",
       "19              vehicle_expenses           65520  float64\n",
       "20                 netincome_w_y           75239  float64\n",
       "21                    income_s_y           52495  float64\n",
       "22                   misc_income          134079  float64\n",
       "23                       subsidy          142689  float64"
      ]
     },
     "execution_count": 237,
     "metadata": {},
     "output_type": "execute_result"
    }
   ],
   "source": [
    "original_info_df"
   ]
  },
  {
   "cell_type": "markdown",
   "metadata": {},
   "source": [
    "### <h3 style=\"text-align: left; color:cyan\"> Filling missing data </h3>"
   ]
  },
  {
   "cell_type": "markdown",
   "metadata": {},
   "source": [
    "Our target column is \"transportation_cost\", so we will drop rows with said column being NaN.\n",
    "We fill the NaN values of some features with few NaN count with zero, only the ones that make sense to do so, for features with many NaN values, we store their column names and decide later to be included in our model features or not."
   ]
  },
  {
   "cell_type": "code",
   "execution_count": 238,
   "metadata": {},
   "outputs": [],
   "source": [
    "df.dropna(subset=[\"transportation_cost\"], inplace=True)\n",
    "\n",
    "\n",
    "df.subsidy.fillna(0, inplace=True)\n",
    "df.misc_income.fillna(0, inplace=True)\n",
    "df.active_member_cnt.fillna(0, inplace=True)\n",
    "df.communication_expenses.fillna(0, inplace=True)\n",
    "\n",
    "# Tenure column has only 4 NaN values which we change to \"other\" value\n",
    "df.tenure.fillna(\"other\", inplace=True)\n",
    "\n",
    "# columns with more than half of the data being null\n",
    "df.netincome_w_y.fillna(0, inplace=True)\n",
    "df.vehicle_expenses.fillna(0, inplace=True)\n",
    "df.income_s_y.fillna(0, inplace=True)\n",
    "df.transport_insurance_expenses.fillna(0, inplace=True)\n",
    "df.highly_educated_member_cnt.fillna(0, inplace=True)\n",
    "df.dining_expenses.fillna(0, inplace=True)\n",
    "\n",
    "# We drop town column since it does not add any value to the model, towns with same number are considered as the same\n",
    "df.drop(columns=[\"town\"], inplace=True)"
   ]
  },
  {
   "cell_type": "code",
   "execution_count": 239,
   "metadata": {},
   "outputs": [
    {
     "name": "stdout",
     "output_type": "stream",
     "text": [
      "<class 'pandas.core.frame.DataFrame'>\n",
      "Int64Index: 137600 entries, 0 to 151823\n",
      "Data columns (total 23 columns):\n",
      " #   Column                        Non-Null Count   Dtype  \n",
      "---  ------                        --------------   -----  \n",
      " 0   Address                       137600 non-null  int64  \n",
      " 1   Urban                         137600 non-null  bool   \n",
      " 2   Year                          137600 non-null  int64  \n",
      " 3   Fasl                          137600 non-null  int64  \n",
      " 4   khanevartype                  137600 non-null  int64  \n",
      " 5   province                      137600 non-null  object \n",
      " 6   member_cnt                    137600 non-null  int64  \n",
      " 7   active_member_cnt             137600 non-null  float64\n",
      " 8   mean_age                      137600 non-null  float64\n",
      " 9   highly_educated_member_cnt    137600 non-null  float64\n",
      " 10  tenure                        137600 non-null  object \n",
      " 11  vehicle                       137600 non-null  bool   \n",
      " 12  motorcycle                    137600 non-null  bool   \n",
      " 13  bicycle                       137600 non-null  bool   \n",
      " 14  transportation_cost           137600 non-null  float64\n",
      " 15  communication_expenses        137600 non-null  float64\n",
      " 16  dining_expenses               137600 non-null  float64\n",
      " 17  transport_insurance_expenses  137600 non-null  float64\n",
      " 18  vehicle_expenses              137600 non-null  float64\n",
      " 19  netincome_w_y                 137600 non-null  float64\n",
      " 20  income_s_y                    137600 non-null  float64\n",
      " 21  misc_income                   137600 non-null  float64\n",
      " 22  subsidy                       137600 non-null  float64\n",
      "dtypes: bool(4), float64(12), int64(5), object(2)\n",
      "memory usage: 21.5+ MB\n"
     ]
    }
   ],
   "source": [
    "df.info()"
   ]
  },
  {
   "cell_type": "code",
   "execution_count": 240,
   "metadata": {},
   "outputs": [],
   "source": [
    "df[\"total_income\"] = df.netincome_w_y + df.income_s_y + df.subsidy + df.misc_income\n",
    "df = df.drop(columns=[\"netincome_w_y\", \"income_s_y\", \"subsidy\", \"misc_income\"])"
   ]
  },
  {
   "cell_type": "markdown",
   "metadata": {},
   "source": [
    "Since khanevartype has only two values (1,2) we convert it (0,1) by just subtracting 1 from it.\n",
    "Then also convert it to Boolean, it reduces data volume in memory."
   ]
  },
  {
   "cell_type": "code",
   "execution_count": 241,
   "metadata": {},
   "outputs": [],
   "source": [
    "df['khanevartype'] = (df['khanevartype'] - 1)"
   ]
  },
  {
   "cell_type": "markdown",
   "metadata": {},
   "source": [
    "Converting boolean columns to int"
   ]
  },
  {
   "cell_type": "code",
   "execution_count": 242,
   "metadata": {},
   "outputs": [],
   "source": [
    "for col in df.columns:\n",
    "    if df[col].dtype == bool:\n",
    "        df[col] = df[col].astype(int)\n"
   ]
  },
  {
   "cell_type": "code",
   "execution_count": 243,
   "metadata": {},
   "outputs": [],
   "source": [
    "duplicate_addresses = df.loc[df.Address.duplicated(), :].Address.unique().shape[0]"
   ]
  },
  {
   "cell_type": "markdown",
   "metadata": {},
   "source": [
    "There are 36792 families with info being present in different years. there is no reason to group the result for those families and we treat them as separate data since we are going to drop the Address columns later on."
   ]
  },
  {
   "cell_type": "code",
   "execution_count": 244,
   "metadata": {},
   "outputs": [],
   "source": [
    "df = df[df.transportation_cost < 3e+08]"
   ]
  },
  {
   "cell_type": "markdown",
   "metadata": {},
   "source": [
    "### <h3 style=\"text-align: left; color:cyan\"> Splitting train, validation & test data </h4>"
   ]
  },
  {
   "cell_type": "code",
   "execution_count": 245,
   "metadata": {},
   "outputs": [],
   "source": [
    "X_test = df.loc[(df.Fasl==4) & (df.Year==1401), :]\n",
    "y_test = X_test.pop(\"transportation_cost\")\n",
    "\n",
    "X = df.loc[~df.index.isin(X_test.index), :]\n",
    "y = X.pop(\"transportation_cost\")\n",
    "\n",
    "X_train, X_val, y_train, y_val = train_test_split(X,y, random_state = 42, test_size = 0.25)\n"
   ]
  },
  {
   "cell_type": "markdown",
   "metadata": {},
   "source": [
    "Investigation correlation of features with target variable"
   ]
  },
  {
   "cell_type": "code",
   "execution_count": 246,
   "metadata": {},
   "outputs": [
    {
     "data": {
      "text/plain": [
       "Address                         0.214132\n",
       "communication_expenses          0.208448\n",
       "total_income                    0.173637\n",
       "vehicle                         0.173281\n",
       "transport_insurance_expenses    0.142708\n",
       "vehicle_expenses                0.142104\n",
       "Year                            0.063234\n",
       "dining_expenses                 0.054451\n",
       "member_cnt                      0.043970\n",
       "mean_age                        0.042819\n",
       "highly_educated_member_cnt      0.039435\n",
       "active_member_cnt               0.034071\n",
       "motorcycle                      0.013470\n",
       "Urban                           0.004930\n",
       "bicycle                         0.003953\n",
       "Fasl                            0.002538\n",
       "khanevartype                    0.000283\n",
       "Name: MI Scores, dtype: float64"
      ]
     },
     "execution_count": 246,
     "metadata": {},
     "output_type": "execute_result"
    }
   ],
   "source": [
    "from sklearn.feature_selection import mutual_info_regression\n",
    "\n",
    "def make_mi_scores(X, y):\n",
    "    mi_scores = mutual_info_regression(X, y, n_neighbors=3, random_state=42)\n",
    "    mi_scores = pd.Series(mi_scores, name=\"MI Scores\", index=X.columns)\n",
    "    mi_scores = mi_scores.sort_values(ascending=False)\n",
    "    return mi_scores\n",
    "\n",
    "mi_scores = make_mi_scores(X.select_dtypes((int, float)), \n",
    "                            y)\n",
    "mi_scores"
   ]
  },
  {
   "cell_type": "code",
   "execution_count": 247,
   "metadata": {},
   "outputs": [],
   "source": [
    "# khanevartype is not correlated with our target, so we drop them from df\n",
    "# df = df.drop(columns=[\"khanevartype\"])"
   ]
  },
  {
   "cell_type": "code",
   "execution_count": 248,
   "metadata": {},
   "outputs": [
    {
     "data": {
      "text/plain": [
       "['member_cnt',\n",
       " 'mean_age',\n",
       " 'highly_educated_member_cnt',\n",
       " 'active_member_cnt',\n",
       " 'motorcycle',\n",
       " 'Urban',\n",
       " 'bicycle',\n",
       " 'Fasl',\n",
       " 'khanevartype']"
      ]
     },
     "execution_count": 248,
     "metadata": {},
     "output_type": "execute_result"
    }
   ],
   "source": [
    "less_correlated_feats = mi_scores[mi_scores<0.05].index.to_list()\n",
    "less_correlated_feats"
   ]
  },
  {
   "cell_type": "markdown",
   "metadata": {},
   "source": [
    "### <h3 style=\"text-align: left; color:cyan\"> Feature Scaling </h4>"
   ]
  },
  {
   "cell_type": "code",
   "execution_count": 249,
   "metadata": {},
   "outputs": [],
   "source": [
    "from sklearn.preprocessing import MinMaxScaler, OneHotEncoder"
   ]
  },
  {
   "cell_type": "code",
   "execution_count": 250,
   "metadata": {},
   "outputs": [],
   "source": [
    "categorical_columns = [\"province\", \"tenure\"]"
   ]
  },
  {
   "cell_type": "code",
   "execution_count": 251,
   "metadata": {},
   "outputs": [],
   "source": [
    "excluded_cols = set([\"Address\"] + categorical_columns + less_correlated_feats)\n",
    "excluded_cols = [\"Address\"] + [\"Fasl\", \"khanevartype\"] + categorical_columns "
   ]
  },
  {
   "cell_type": "code",
   "execution_count": 252,
   "metadata": {},
   "outputs": [],
   "source": [
    "province_enc = OneHotEncoder()\n",
    "province_enc.fit(df[[\"province\"]])\n",
    "train_province = province_enc.transform(X_train[[\"province\"]]).toarray()\n",
    "val_province = province_enc.transform(X_val[[\"province\"]]).toarray()\n",
    "test_province = province_enc.transform(X_test[[\"province\"]]).toarray()"
   ]
  },
  {
   "cell_type": "code",
   "execution_count": 253,
   "metadata": {},
   "outputs": [],
   "source": [
    "tenure_enc = OneHotEncoder()\n",
    "tenure_enc.fit(df[[\"tenure\"]])\n",
    "train_tenure = tenure_enc.transform(X_train[[\"tenure\"]]).toarray()\n",
    "val_tenure = tenure_enc.transform(X_val[[\"tenure\"]]).toarray()\n",
    "test_tenure = tenure_enc.transform(X_test[[\"tenure\"]]).toarray()\n"
   ]
  },
  {
   "cell_type": "code",
   "execution_count": 254,
   "metadata": {},
   "outputs": [],
   "source": [
    "min_max_scaler = MinMaxScaler()\n",
    "\n",
    "X_train_minmax = min_max_scaler.fit(X_train.drop(excluded_cols, axis=1))\n",
    "\n",
    "# The following 3 data do not contain categorical variables\n",
    "# X_train.loc[:, X_train.drop(excluded_cols, axis=1).columns.to_list()] = min_max_scaler.transform(X_train.drop(excluded_cols, axis=1))\n",
    "# X_val.loc[:, X_val.drop(excluded_cols, axis=1).columns.to_list()] = min_max_scaler.transform(X_val.drop(excluded_cols, axis=1))\n",
    "# X_test.loc[:, X_test.drop(excluded_cols, axis=1).columns.to_list()] = min_max_scaler.transform(X_test.drop(excluded_cols, axis=1))\n",
    "X_train_numeric = min_max_scaler.transform(X_train.drop(excluded_cols, axis=1))\n",
    "X_val_numeric = min_max_scaler.transform(X_val.drop(excluded_cols, axis=1))\n",
    "X_test_numeric = min_max_scaler.transform(X_test.drop(excluded_cols, axis=1))"
   ]
  },
  {
   "cell_type": "code",
   "execution_count": 255,
   "metadata": {},
   "outputs": [],
   "source": [
    "# Features with categorical included\n",
    "X_train_w_cat = np.hstack((train_province, train_tenure, X_train_numeric))\n",
    "X_val_w_cat = np.hstack((val_province, val_tenure, X_val_numeric))\n",
    "X_test_w_cat = np.hstack((test_province, test_tenure, X_test_numeric))"
   ]
  },
  {
   "cell_type": "code",
   "execution_count": 258,
   "metadata": {},
   "outputs": [
    {
     "data": {
      "text/plain": [
       "<matplotlib.collections.PathCollection at 0x1f06def14e0>"
      ]
     },
     "execution_count": 258,
     "metadata": {},
     "output_type": "execute_result"
    },
    {
     "data": {
      "image/png": "[encoded data removed]",
      "text/plain": [
       "<Figure size 640x480 with 1 Axes>"
      ]
     },
     "metadata": {},
     "output_type": "display_data"
    }
   ],
   "source": [
    "plt.scatter(df.Address, df.transportation_cost)"
   ]
  },
  {
   "cell_type": "code",
   "execution_count": 259,
   "metadata": {},
   "outputs": [
    {
     "data": {
      "text/plain": [
       "<matplotlib.collections.PathCollection at 0x1f07200a290>"
      ]
     },
     "execution_count": 259,
     "metadata": {},
     "output_type": "execute_result"
    },
    {
     "data": {
      "image/png": "[encoded data removed]",
      "text/plain": [
       "<Figure size 640x480 with 1 Axes>"
      ]
     },
     "metadata": {},
     "output_type": "display_data"
    }
   ],
   "source": [
    "plt.scatter(df.member_cnt[df.index!=143648], df.transportation_cost[df.index!=143648])"
   ]
  },
  {
   "cell_type": "code",
   "execution_count": 260,
   "metadata": {},
   "outputs": [
    {
     "data": {
      "text/plain": [
       "<matplotlib.collections.PathCollection at 0x1f07207e8f0>"
      ]
     },
     "execution_count": 260,
     "metadata": {},
     "output_type": "execute_result"
    },
    {
     "data": {
      "image/png": "[encoded data removed]",
      "text/plain": [
       "<Figure size 640x480 with 1 Axes>"
      ]
     },
     "metadata": {},
     "output_type": "display_data"
    }
   ],
   "source": [
    "plt.scatter(df.mean_age, df.transportation_cost)"
   ]
  },
  {
   "cell_type": "code",
   "execution_count": 261,
   "metadata": {},
   "outputs": [
    {
     "data": {
      "text/plain": [
       "<Axes: >"
      ]
     },
     "execution_count": 261,
     "metadata": {},
     "output_type": "execute_result"
    },
    {
     "data": {
      "image/png": "[encoded data removed]",
      "text/plain": [
       "<Figure size 640x480 with 1 Axes>"
      ]
     },
     "metadata": {},
     "output_type": "display_data"
    }
   ],
   "source": [
    "df.transportation_cost[df.transportation_cost<0.1e+08].hist()"
   ]
  },
  {
   "cell_type": "code",
   "execution_count": 262,
   "metadata": {},
   "outputs": [
    {
     "name": "stdout",
     "output_type": "stream",
     "text": [
      "0\n",
      "0\n",
      "0\n"
     ]
    }
   ],
   "source": [
    "criteria = 2e+08\n",
    "print((y_train>criteria).sum())\n",
    "print((y_val>criteria).sum())\n",
    "print((y_test>criteria).sum())\n"
   ]
  },
  {
   "cell_type": "markdown",
   "metadata": {},
   "source": [
    "## <h2 style=\"text-align: left; color:cyan\"> Regression Models </h2>"
   ]
  },
  {
   "cell_type": "code",
   "execution_count": 263,
   "metadata": {},
   "outputs": [],
   "source": [
    "from sklearn.preprocessing import PolynomialFeatures\n",
    "from sklearn.linear_model import LinearRegression\n",
    "from sklearn.metrics import r2_score\n",
    "\n",
    "from sklearn.ensemble import RandomForestRegressor, HistGradientBoostingRegressor\n"
   ]
  },
  {
   "cell_type": "markdown",
   "metadata": {},
   "source": [
    "### <h3 style=\"text-align: left; color:cyan\"> Random Forest Regression Model - w/o categoricals </h3>"
   ]
  },
  {
   "cell_type": "code",
   "execution_count": 264,
   "metadata": {},
   "outputs": [
    {
     "name": "stdout",
     "output_type": "stream",
     "text": [
      "Train data accuracy: 0.8878359920021744\n",
      "Validation data accuracy: 0.18132720302098104\n"
     ]
    }
   ],
   "source": [
    "rf_reg = RandomForestRegressor(n_estimators=100, n_jobs=-1, random_state=42)\n",
    "rf_reg.fit(X_train_numeric, y_train)\n",
    "y_pred = rf_reg.predict(X_val_numeric)\n",
    "print(\"Train data accuracy:\",r2_score(y_true = y_train, y_pred=rf_reg.predict(X_train_numeric)))\n",
    "print(\"Validation data accuracy:\",r2_score(y_true = y_val, y_pred=y_pred))"
   ]
  },
  {
   "cell_type": "markdown",
   "metadata": {},
   "source": [
    "The above model is clearly not working well."
   ]
  },
  {
   "cell_type": "markdown",
   "metadata": {},
   "source": [
    "### <h3 style=\"text-align: left; color:cyan\"> Multiple Linear Regression Model - w/o categoricals </h3>"
   ]
  },
  {
   "cell_type": "code",
   "execution_count": 265,
   "metadata": {},
   "outputs": [
    {
     "name": "stdout",
     "output_type": "stream",
     "text": [
      "train R2=  0.22810469176956483 \n",
      "validation R2=  0.21417201726061852 \n",
      "R2 diff=  0.013932674508946308\n"
     ]
    }
   ],
   "source": [
    "poly_transformer = PolynomialFeatures(2, include_bias=True, interaction_only=True)\n",
    "train_poly_features = poly_transformer.fit_transform(X_train_numeric)\n",
    "val_poly_features = poly_transformer.transform(X_val_numeric)\n",
    "\n",
    "model = LinearRegression()\n",
    "model.fit(train_poly_features, y_train)\n",
    "\n",
    "train_y_pred = model.predict(train_poly_features)\n",
    "validate_y_pred = model.predict(val_poly_features)\n",
    "train_r2 = r2_score(y_train, train_y_pred)\n",
    "validation_r2 = r2_score(y_val, validate_y_pred)\n",
    "print(\"train R2= \",train_r2, \"\\nvalidation R2= \",validation_r2, \"\\nR2 diff= \", train_r2 - validation_r2)"
   ]
  },
  {
   "cell_type": "markdown",
   "metadata": {},
   "source": [
    "### <h3 style=\"text-align: left; color:cyan\"> Random Forest Regression Model - with categoricals </h3>"
   ]
  },
  {
   "cell_type": "code",
   "execution_count": 266,
   "metadata": {},
   "outputs": [
    {
     "name": "stdout",
     "output_type": "stream",
     "text": [
      "Train data accuracy: 0.8938959942438256\n",
      "Validation data accuracy: 0.2117608526733219\n"
     ]
    }
   ],
   "source": [
    "rf_reg = RandomForestRegressor(n_estimators=200, n_jobs=-1, random_state=42)\n",
    "rf_reg.fit(X_train_w_cat, y_train)\n",
    "y_pred_train = rf_reg.predict(X_train_w_cat)\n",
    "y_pred_val = rf_reg.predict(X_val_w_cat)\n",
    "print(\"Train data accuracy:\",r2_score(y_true = y_train, y_pred=y_pred_train))\n",
    "print(\"Validation data accuracy:\",r2_score(y_true = y_val, y_pred=y_pred_val))"
   ]
  },
  {
   "cell_type": "markdown",
   "metadata": {},
   "source": [
    "### <h3 style=\"text-align: left; color:cyan\"> Multiple Linear Regression Model - with categoricals </h3>"
   ]
  },
  {
   "cell_type": "code",
   "execution_count": 269,
   "metadata": {},
   "outputs": [
    {
     "name": "stdout",
     "output_type": "stream",
     "text": [
      "train R2=  0.22975754382703617 \n",
      "validation R2=  0.2163169362737113 \n",
      "R2 diff=  0.01344060755332488\n"
     ]
    }
   ],
   "source": [
    "poly_transformer = PolynomialFeatures(1, include_bias=True, interaction_only=True)\n",
    "train_poly_features = poly_transformer.fit_transform(X_train_w_cat)\n",
    "val_poly_features = poly_transformer.transform(X_val_w_cat)\n",
    "\n",
    "model = LinearRegression()\n",
    "model.fit(train_poly_features, y_train)\n",
    "\n",
    "train_y_pred = model.predict(train_poly_features)\n",
    "validate_y_pred = model.predict(val_poly_features)\n",
    "train_r2 = r2_score(y_train, train_y_pred)\n",
    "validation_r2 = r2_score(y_val, validate_y_pred)\n",
    "print(\"train R2= \",train_r2, \"\\nvalidation R2= \",validation_r2, \"\\nR2 diff= \", train_r2 - validation_r2)"
   ]
  },
  {
   "cell_type": "markdown",
   "metadata": {},
   "source": [
    "### <h3 style=\"text-align: left; color:cyan\"> Hist GB Regression Model - w & w/o categoricals </h3>"
   ]
  },
  {
   "cell_type": "code",
   "execution_count": 277,
   "metadata": {},
   "outputs": [
    {
     "name": "stdout",
     "output_type": "stream",
     "text": [
      "Train data accuracy: 0.3990201086722559\n",
      "Validation data accuracy: 0.2600819827460381\n"
     ]
    }
   ],
   "source": [
    "hgb_reg = HistGradientBoostingRegressor(loss=\"squared_error\",\n",
    "                                        max_iter=3000,\n",
    "                                        learning_rate=0.1,\n",
    "                                        n_iter_no_change=30,\n",
    "                                        random_state=42)\n",
    "hgb_reg.fit(X_train_w_cat, y_train)\n",
    "y_pred_train = hgb_reg.predict(X_train_w_cat)\n",
    "y_pred_val = hgb_reg.predict(X_val_w_cat)\n",
    "print(\"Train data accuracy:\",r2_score(y_true = y_train, y_pred=y_pred_train))\n",
    "print(\"Validation data accuracy:\",r2_score(y_true = y_val, y_pred=y_pred_val))"
   ]
  },
  {
   "cell_type": "code",
   "execution_count": 272,
   "metadata": {},
   "outputs": [
    {
     "name": "stdout",
     "output_type": "stream",
     "text": [
      "Train data accuracy: 0.32632500411705434\n",
      "Validation data accuracy: 0.22746052246064707\n"
     ]
    }
   ],
   "source": [
    "hgb_reg = HistGradientBoostingRegressor(loss=\"squared_error\",\n",
    "                                        max_iter=3000,\n",
    "                                        learning_rate=0.05,\n",
    "                                        n_iter_no_change=30,\n",
    "                                        random_state=42)\n",
    "hgb_reg.fit(X_train_numeric, y_train)\n",
    "y_pred_train = hgb_reg.predict(X_train_numeric)\n",
    "y_pred_val = hgb_reg.predict(X_val_numeric)\n",
    "print(\"Train data accuracy:\",r2_score(y_true = y_train, y_pred=y_pred_train))\n",
    "print(\"Validation data accuracy:\",r2_score(y_true = y_val, y_pred=y_pred_val))"
   ]
  },
  {
   "cell_type": "markdown",
   "metadata": {},
   "source": [
    "### <h3 style=\"text-align: left; color:cyan\"> SGD Regressor </h3>"
   ]
  },
  {
   "cell_type": "code",
   "execution_count": 278,
   "metadata": {},
   "outputs": [
    {
     "name": "stdout",
     "output_type": "stream",
     "text": [
      "Train data accuracy: 0.17608554943505772\n",
      "Validation data accuracy: 0.1636155022280148\n"
     ]
    }
   ],
   "source": [
    "from sklearn.linear_model import SGDRegressor\n",
    "sgd_reg = SGDRegressor(max_iter=1000, loss='squared_error')\n",
    "sgd_reg.fit(X_train_numeric, y_train)\n",
    "y_pred_train = sgd_reg.predict(X_train_numeric)\n",
    "y_pred_val = sgd_reg.predict(X_val_numeric)\n",
    "print(\"Train data accuracy:\",r2_score(y_true = y_train, y_pred=y_pred_train))\n",
    "print(\"Validation data accuracy:\",r2_score(y_true = y_val, y_pred=y_pred_val))"
   ]
  },
  {
   "cell_type": "code",
   "execution_count": 279,
   "metadata": {},
   "outputs": [
    {
     "name": "stdout",
     "output_type": "stream",
     "text": [
      "Train data accuracy: 0.20645668721914512\n",
      "Validation data accuracy: 0.19040855136591095\n"
     ]
    }
   ],
   "source": [
    "from sklearn.linear_model import SGDRegressor\n",
    "sgd_reg = SGDRegressor(max_iter=1000, loss='squared_error')\n",
    "sgd_reg.fit(X_train_w_cat, y_train)\n",
    "y_pred_train = sgd_reg.predict(X_train_w_cat)\n",
    "y_pred_val = sgd_reg.predict(X_val_w_cat)\n",
    "print(\"Train data accuracy:\",r2_score(y_true = y_train, y_pred=y_pred_train))\n",
    "print(\"Validation data accuracy:\",r2_score(y_true = y_val, y_pred=y_pred_val))"
   ]
  },
  {
   "cell_type": "markdown",
   "metadata": {},
   "source": [
    "### <h3 style=\"text-align: left; color:cyan\"> Huber Regressor </h3>"
   ]
  },
  {
   "cell_type": "code",
   "execution_count": 280,
   "metadata": {},
   "outputs": [
    {
     "name": "stdout",
     "output_type": "stream",
     "text": [
      "Train data accuracy: 0.1948603899135759\n",
      "Validation data accuracy: 0.18019677554471103\n"
     ]
    }
   ],
   "source": [
    "from sklearn.linear_model import HuberRegressor\n",
    "huber_reg = HuberRegressor(max_iter=1000, epsilon=1000)\n",
    "huber_reg.fit(X_train_w_cat, y_train)\n",
    "y_pred_train = huber_reg.predict(X_train_w_cat)\n",
    "y_pred_val = huber_reg.predict(X_val_w_cat)\n",
    "print(\"Train data accuracy:\",r2_score(y_true = y_train, y_pred=y_pred_train))\n",
    "print(\"Validation data accuracy:\",r2_score(y_true = y_val, y_pred=y_pred_val))"
   ]
  }
 ],
 "metadata": {
  "kernelspec": {
   "display_name": "Python 3",
   "language": "python",
   "name": "python3"
  },
  "language_info": {
   "codemirror_mode": {
    "name": "ipython",
    "version": 3
   },
   "file_extension": ".py",
   "mimetype": "text/x-python",
   "name": "python",
   "nbconvert_exporter": "python",
   "pygments_lexer": "ipython3",
   "version": "3.10.11"
  }
 },
 "nbformat": 4,
 "nbformat_minor": 2
}
